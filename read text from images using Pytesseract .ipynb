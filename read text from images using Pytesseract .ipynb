{
 "cells": [
  {
   "cell_type": "code",
   "execution_count": 7,
   "id": "6a5d9c61-3084-4da2-89d0-5977afefaf97",
   "metadata": {},
   "outputs": [],
   "source": [
    "import pytesseract\n",
    "pytesseract.pytesseract.tesseract_cmd=r'C:\\Program Files\\Tesseract-OCR\\tesseract'"
   ]
  },
  {
   "cell_type": "code",
   "execution_count": 8,
   "id": "28c47771-9d15-4587-bfd7-662c4d072925",
   "metadata": {},
   "outputs": [],
   "source": [
    "import cv2"
   ]
  },
  {
   "cell_type": "code",
   "execution_count": 9,
   "id": "50c4ebfb-4eb6-4595-9ac5-93e6892f8f00",
   "metadata": {},
   "outputs": [],
   "source": [
    "img=cv2.imread('invoice.png')\n",
    "cv2.imshow('sample image',img)\n",
    "cv2.waitKey(0)\n",
    "cv2.destroyAllWindows()\n"
   ]
  },
  {
   "cell_type": "code",
   "execution_count": 10,
   "id": "86a4def0-2235-4a33-9d6b-408a2bf9c381",
   "metadata": {},
   "outputs": [
    {
     "name": "stdout",
     "output_type": "stream",
     "text": [
      "INVOICE\n",
      "\n",
      "Your name/business name\n",
      "Your address\n",
      "Your phone number\n",
      "\n",
      "Your email\n",
      "\n",
      "Bill to:\n",
      "Buyer name/business name\n",
      "Buyer address\n",
      "\n",
      "Buyer phone number\n",
      "\n",
      "Invoice number: ########\n",
      "\n",
      "Invoice date: MM/DD/YYYY\n",
      "\n",
      "Payment due: MM/DD/YYYY\n",
      "\n",
      "Buyer email\n",
      "Item Quantity Price per unit Amount\n",
      "Item 1 # $0.00 $0.00\n",
      "Item 2 # $0.00 $0.00\n",
      "Item 3 # $0.00 $0.00\n",
      "Subtotal $0.00\n",
      "Tax 0.00% $0.00\n",
      "Fees/discounts $0.00\n",
      "TOTAL $0.00\n",
      "\n",
      "Terms and conditions\n",
      "\n",
      "Terms and conditions go here\n",
      "\n"
     ]
    }
   ],
   "source": [
    "text= pytesseract.image_to_string(img)\n",
    "print(text)"
   ]
  },
  {
   "cell_type": "code",
   "execution_count": null,
   "id": "5889a7cb-ee61-4fe4-a892-4b87c2d0a749",
   "metadata": {},
   "outputs": [],
   "source": []
  }
 ],
 "metadata": {
  "kernelspec": {
   "display_name": "Python 3 (ipykernel)",
   "language": "python",
   "name": "python3"
  },
  "language_info": {
   "codemirror_mode": {
    "name": "ipython",
    "version": 3
   },
   "file_extension": ".py",
   "mimetype": "text/x-python",
   "name": "python",
   "nbconvert_exporter": "python",
   "pygments_lexer": "ipython3",
   "version": "3.8.18"
  }
 },
 "nbformat": 4,
 "nbformat_minor": 5
}

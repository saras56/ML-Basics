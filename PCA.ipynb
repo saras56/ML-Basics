{
 "cells": [
  {
   "cell_type": "markdown",
   "id": "60688a0c-2969-4983-8f26-fee86d2e1fae",
   "metadata": {},
   "source": [
    "#### Excercise"
   ]
  },
  {
   "cell_type": "code",
   "execution_count": 1,
   "id": "9726e12a-6c68-40d6-ab87-41619994ae99",
   "metadata": {},
   "outputs": [],
   "source": [
    "import pandas as pd"
   ]
  },
  {
   "cell_type": "code",
   "execution_count": 2,
   "id": "88bb4333-1bc2-407e-bcc1-c191e856c0ab",
   "metadata": {},
   "outputs": [
    {
     "data": {
      "text/html": [
       "<div>\n",
       "<style scoped>\n",
       "    .dataframe tbody tr th:only-of-type {\n",
       "        vertical-align: middle;\n",
       "    }\n",
       "\n",
       "    .dataframe tbody tr th {\n",
       "        vertical-align: top;\n",
       "    }\n",
       "\n",
       "    .dataframe thead th {\n",
       "        text-align: right;\n",
       "    }\n",
       "</style>\n",
       "<table border=\"1\" class=\"dataframe\">\n",
       "  <thead>\n",
       "    <tr style=\"text-align: right;\">\n",
       "      <th></th>\n",
       "      <th>Age</th>\n",
       "      <th>Sex</th>\n",
       "      <th>ChestPainType</th>\n",
       "      <th>RestingBP</th>\n",
       "      <th>Cholesterol</th>\n",
       "      <th>FastingBS</th>\n",
       "      <th>RestingECG</th>\n",
       "      <th>MaxHR</th>\n",
       "      <th>ExerciseAngina</th>\n",
       "      <th>Oldpeak</th>\n",
       "      <th>ST_Slope</th>\n",
       "      <th>HeartDisease</th>\n",
       "    </tr>\n",
       "  </thead>\n",
       "  <tbody>\n",
       "    <tr>\n",
       "      <th>0</th>\n",
       "      <td>40</td>\n",
       "      <td>M</td>\n",
       "      <td>ATA</td>\n",
       "      <td>140</td>\n",
       "      <td>289</td>\n",
       "      <td>0</td>\n",
       "      <td>Normal</td>\n",
       "      <td>172</td>\n",
       "      <td>N</td>\n",
       "      <td>0.0</td>\n",
       "      <td>Up</td>\n",
       "      <td>0</td>\n",
       "    </tr>\n",
       "    <tr>\n",
       "      <th>1</th>\n",
       "      <td>49</td>\n",
       "      <td>F</td>\n",
       "      <td>NAP</td>\n",
       "      <td>160</td>\n",
       "      <td>180</td>\n",
       "      <td>0</td>\n",
       "      <td>Normal</td>\n",
       "      <td>156</td>\n",
       "      <td>N</td>\n",
       "      <td>1.0</td>\n",
       "      <td>Flat</td>\n",
       "      <td>1</td>\n",
       "    </tr>\n",
       "    <tr>\n",
       "      <th>2</th>\n",
       "      <td>37</td>\n",
       "      <td>M</td>\n",
       "      <td>ATA</td>\n",
       "      <td>130</td>\n",
       "      <td>283</td>\n",
       "      <td>0</td>\n",
       "      <td>ST</td>\n",
       "      <td>98</td>\n",
       "      <td>N</td>\n",
       "      <td>0.0</td>\n",
       "      <td>Up</td>\n",
       "      <td>0</td>\n",
       "    </tr>\n",
       "    <tr>\n",
       "      <th>3</th>\n",
       "      <td>48</td>\n",
       "      <td>F</td>\n",
       "      <td>ASY</td>\n",
       "      <td>138</td>\n",
       "      <td>214</td>\n",
       "      <td>0</td>\n",
       "      <td>Normal</td>\n",
       "      <td>108</td>\n",
       "      <td>Y</td>\n",
       "      <td>1.5</td>\n",
       "      <td>Flat</td>\n",
       "      <td>1</td>\n",
       "    </tr>\n",
       "    <tr>\n",
       "      <th>4</th>\n",
       "      <td>54</td>\n",
       "      <td>M</td>\n",
       "      <td>NAP</td>\n",
       "      <td>150</td>\n",
       "      <td>195</td>\n",
       "      <td>0</td>\n",
       "      <td>Normal</td>\n",
       "      <td>122</td>\n",
       "      <td>N</td>\n",
       "      <td>0.0</td>\n",
       "      <td>Up</td>\n",
       "      <td>0</td>\n",
       "    </tr>\n",
       "  </tbody>\n",
       "</table>\n",
       "</div>"
      ],
      "text/plain": [
       "   Age Sex ChestPainType  RestingBP  Cholesterol  FastingBS RestingECG  MaxHR  \\\n",
       "0   40   M           ATA        140          289          0     Normal    172   \n",
       "1   49   F           NAP        160          180          0     Normal    156   \n",
       "2   37   M           ATA        130          283          0         ST     98   \n",
       "3   48   F           ASY        138          214          0     Normal    108   \n",
       "4   54   M           NAP        150          195          0     Normal    122   \n",
       "\n",
       "  ExerciseAngina  Oldpeak ST_Slope  HeartDisease  \n",
       "0              N      0.0       Up             0  \n",
       "1              N      1.0     Flat             1  \n",
       "2              N      0.0       Up             0  \n",
       "3              Y      1.5     Flat             1  \n",
       "4              N      0.0       Up             0  "
      ]
     },
     "execution_count": 2,
     "metadata": {},
     "output_type": "execute_result"
    }
   ],
   "source": [
    "df=pd.read_csv('heart.csv')\n",
    "df.head()"
   ]
  },
  {
   "cell_type": "code",
   "execution_count": 3,
   "id": "c9ca96bb-b6bc-42cd-ba9f-2365624cdebe",
   "metadata": {},
   "outputs": [
    {
     "data": {
      "text/plain": [
       "Age               0\n",
       "Sex               0\n",
       "ChestPainType     0\n",
       "RestingBP         0\n",
       "Cholesterol       0\n",
       "FastingBS         0\n",
       "RestingECG        0\n",
       "MaxHR             0\n",
       "ExerciseAngina    0\n",
       "Oldpeak           0\n",
       "ST_Slope          0\n",
       "HeartDisease      0\n",
       "dtype: int64"
      ]
     },
     "execution_count": 3,
     "metadata": {},
     "output_type": "execute_result"
    }
   ],
   "source": [
    "df.isnull().sum()"
   ]
  },
  {
   "cell_type": "code",
   "execution_count": 4,
   "id": "ca225af4-4ff9-44b6-b8cc-cd1ca85e190d",
   "metadata": {},
   "outputs": [
    {
     "data": {
      "text/plain": [
       "(918, 12)"
      ]
     },
     "execution_count": 4,
     "metadata": {},
     "output_type": "execute_result"
    }
   ],
   "source": [
    "df.shape"
   ]
  },
  {
   "cell_type": "code",
   "execution_count": 5,
   "id": "56bf30ca-932d-4d22-9f2b-5c0e2470fdd2",
   "metadata": {},
   "outputs": [],
   "source": [
    "df['zscoreBP']=(df['RestingBP']-df['RestingBP'].mean())/df['RestingBP'].std()\n",
    "df['zscoreChole']=(df['Cholesterol']-df['Cholesterol'].mean())/df['Cholesterol'].std()\n",
    "df['zscoreBS']=(df['FastingBS']-df['FastingBS'].mean())/df['FastingBS'].std()\n",
    "df['zscoreMaxHR']=(df['MaxHR']-df['MaxHR'].mean())/df['MaxHR'].std()\n",
    "df['zscoreOldpeak']=(df['Oldpeak']-df['Oldpeak'].mean())/df['Oldpeak'].std()"
   ]
  },
  {
   "cell_type": "code",
   "execution_count": 6,
   "id": "f466b932-07f8-476e-8f7d-159be1e08eff",
   "metadata": {},
   "outputs": [
    {
     "data": {
      "text/html": [
       "<div>\n",
       "<style scoped>\n",
       "    .dataframe tbody tr th:only-of-type {\n",
       "        vertical-align: middle;\n",
       "    }\n",
       "\n",
       "    .dataframe tbody tr th {\n",
       "        vertical-align: top;\n",
       "    }\n",
       "\n",
       "    .dataframe thead th {\n",
       "        text-align: right;\n",
       "    }\n",
       "</style>\n",
       "<table border=\"1\" class=\"dataframe\">\n",
       "  <thead>\n",
       "    <tr style=\"text-align: right;\">\n",
       "      <th></th>\n",
       "      <th>Age</th>\n",
       "      <th>Sex</th>\n",
       "      <th>ChestPainType</th>\n",
       "      <th>RestingBP</th>\n",
       "      <th>Cholesterol</th>\n",
       "      <th>FastingBS</th>\n",
       "      <th>RestingECG</th>\n",
       "      <th>MaxHR</th>\n",
       "      <th>ExerciseAngina</th>\n",
       "      <th>Oldpeak</th>\n",
       "      <th>ST_Slope</th>\n",
       "      <th>HeartDisease</th>\n",
       "      <th>zscoreBP</th>\n",
       "      <th>zscoreChole</th>\n",
       "      <th>zscoreBS</th>\n",
       "      <th>zscoreMaxHR</th>\n",
       "      <th>zscoreOldpeak</th>\n",
       "    </tr>\n",
       "  </thead>\n",
       "  <tbody>\n",
       "    <tr>\n",
       "      <th>0</th>\n",
       "      <td>40</td>\n",
       "      <td>M</td>\n",
       "      <td>ATA</td>\n",
       "      <td>140</td>\n",
       "      <td>289</td>\n",
       "      <td>0</td>\n",
       "      <td>Normal</td>\n",
       "      <td>172</td>\n",
       "      <td>N</td>\n",
       "      <td>0.0</td>\n",
       "      <td>Up</td>\n",
       "      <td>0</td>\n",
       "      <td>0.410685</td>\n",
       "      <td>0.824621</td>\n",
       "      <td>-0.551041</td>\n",
       "      <td>1.382175</td>\n",
       "      <td>-0.831979</td>\n",
       "    </tr>\n",
       "    <tr>\n",
       "      <th>1</th>\n",
       "      <td>49</td>\n",
       "      <td>F</td>\n",
       "      <td>NAP</td>\n",
       "      <td>160</td>\n",
       "      <td>180</td>\n",
       "      <td>0</td>\n",
       "      <td>Normal</td>\n",
       "      <td>156</td>\n",
       "      <td>N</td>\n",
       "      <td>1.0</td>\n",
       "      <td>Flat</td>\n",
       "      <td>1</td>\n",
       "      <td>1.490940</td>\n",
       "      <td>-0.171867</td>\n",
       "      <td>-0.551041</td>\n",
       "      <td>0.753746</td>\n",
       "      <td>0.105606</td>\n",
       "    </tr>\n",
       "    <tr>\n",
       "      <th>2</th>\n",
       "      <td>37</td>\n",
       "      <td>M</td>\n",
       "      <td>ATA</td>\n",
       "      <td>130</td>\n",
       "      <td>283</td>\n",
       "      <td>0</td>\n",
       "      <td>ST</td>\n",
       "      <td>98</td>\n",
       "      <td>N</td>\n",
       "      <td>0.0</td>\n",
       "      <td>Up</td>\n",
       "      <td>0</td>\n",
       "      <td>-0.129442</td>\n",
       "      <td>0.769768</td>\n",
       "      <td>-0.551041</td>\n",
       "      <td>-1.524307</td>\n",
       "      <td>-0.831979</td>\n",
       "    </tr>\n",
       "    <tr>\n",
       "      <th>3</th>\n",
       "      <td>48</td>\n",
       "      <td>F</td>\n",
       "      <td>ASY</td>\n",
       "      <td>138</td>\n",
       "      <td>214</td>\n",
       "      <td>0</td>\n",
       "      <td>Normal</td>\n",
       "      <td>108</td>\n",
       "      <td>Y</td>\n",
       "      <td>1.5</td>\n",
       "      <td>Flat</td>\n",
       "      <td>1</td>\n",
       "      <td>0.302660</td>\n",
       "      <td>0.138964</td>\n",
       "      <td>-0.551041</td>\n",
       "      <td>-1.131539</td>\n",
       "      <td>0.574398</td>\n",
       "    </tr>\n",
       "    <tr>\n",
       "      <th>4</th>\n",
       "      <td>54</td>\n",
       "      <td>M</td>\n",
       "      <td>NAP</td>\n",
       "      <td>150</td>\n",
       "      <td>195</td>\n",
       "      <td>0</td>\n",
       "      <td>Normal</td>\n",
       "      <td>122</td>\n",
       "      <td>N</td>\n",
       "      <td>0.0</td>\n",
       "      <td>Up</td>\n",
       "      <td>0</td>\n",
       "      <td>0.950812</td>\n",
       "      <td>-0.034736</td>\n",
       "      <td>-0.551041</td>\n",
       "      <td>-0.581664</td>\n",
       "      <td>-0.831979</td>\n",
       "    </tr>\n",
       "  </tbody>\n",
       "</table>\n",
       "</div>"
      ],
      "text/plain": [
       "   Age Sex ChestPainType  RestingBP  Cholesterol  FastingBS RestingECG  MaxHR  \\\n",
       "0   40   M           ATA        140          289          0     Normal    172   \n",
       "1   49   F           NAP        160          180          0     Normal    156   \n",
       "2   37   M           ATA        130          283          0         ST     98   \n",
       "3   48   F           ASY        138          214          0     Normal    108   \n",
       "4   54   M           NAP        150          195          0     Normal    122   \n",
       "\n",
       "  ExerciseAngina  Oldpeak ST_Slope  HeartDisease  zscoreBP  zscoreChole  \\\n",
       "0              N      0.0       Up             0  0.410685     0.824621   \n",
       "1              N      1.0     Flat             1  1.490940    -0.171867   \n",
       "2              N      0.0       Up             0 -0.129442     0.769768   \n",
       "3              Y      1.5     Flat             1  0.302660     0.138964   \n",
       "4              N      0.0       Up             0  0.950812    -0.034736   \n",
       "\n",
       "   zscoreBS  zscoreMaxHR  zscoreOldpeak  \n",
       "0 -0.551041     1.382175      -0.831979  \n",
       "1 -0.551041     0.753746       0.105606  \n",
       "2 -0.551041    -1.524307      -0.831979  \n",
       "3 -0.551041    -1.131539       0.574398  \n",
       "4 -0.551041    -0.581664      -0.831979  "
      ]
     },
     "execution_count": 6,
     "metadata": {},
     "output_type": "execute_result"
    }
   ],
   "source": [
    "df.head()"
   ]
  },
  {
   "cell_type": "code",
   "execution_count": 7,
   "id": "e6072c04-f9bb-48cb-a9b1-d48d6e6e5001",
   "metadata": {},
   "outputs": [
    {
     "data": {
      "text/plain": [
       "(918, 17)"
      ]
     },
     "execution_count": 7,
     "metadata": {},
     "output_type": "execute_result"
    }
   ],
   "source": [
    "df.shape"
   ]
  },
  {
   "cell_type": "code",
   "execution_count": 8,
   "id": "a8648018-7641-4ecd-99df-068c8feb8155",
   "metadata": {},
   "outputs": [],
   "source": [
    "df_1=df[(df['zscoreBP']<3) & (df['zscoreBP']>-3) ]"
   ]
  },
  {
   "cell_type": "code",
   "execution_count": 9,
   "id": "dd7baf86-eca3-4742-9ec3-b902670462f2",
   "metadata": {},
   "outputs": [],
   "source": [
    "df_2=df_1[(df_1['zscoreChole']<3) & (df_1['zscoreChole']>-3) ]"
   ]
  },
  {
   "cell_type": "code",
   "execution_count": 10,
   "id": "740577ad-c98a-4f09-ac47-75f3af0798ca",
   "metadata": {},
   "outputs": [],
   "source": [
    "df_3=df_2[(df_2['zscoreBS']<3) & (df_2['zscoreBS']>-3) ]"
   ]
  },
  {
   "cell_type": "code",
   "execution_count": 11,
   "id": "a2c85447-9f74-4b3b-a35e-4392ec628e42",
   "metadata": {},
   "outputs": [],
   "source": [
    "df_4=df_3[(df_3['zscoreMaxHR']<3) & (df_3['zscoreMaxHR']>-3) ]"
   ]
  },
  {
   "cell_type": "code",
   "execution_count": 12,
   "id": "eabffc70-a731-48f3-ba53-a2dd9e4b6925",
   "metadata": {},
   "outputs": [],
   "source": [
    "df_5=df_4[(df_4['zscoreOldpeak']<3) & (df_4['zscoreOldpeak']>-3) ]"
   ]
  },
  {
   "cell_type": "code",
   "execution_count": 13,
   "id": "216e38aa-435d-42b6-a911-b1840878817c",
   "metadata": {},
   "outputs": [
    {
     "data": {
      "text/plain": [
       "(899, 17)"
      ]
     },
     "execution_count": 13,
     "metadata": {},
     "output_type": "execute_result"
    }
   ],
   "source": [
    "df_5.shape"
   ]
  },
  {
   "cell_type": "code",
   "execution_count": 14,
   "id": "e26b3959-813b-42a8-8ca7-e26b1f9eda34",
   "metadata": {},
   "outputs": [
    {
     "name": "stderr",
     "output_type": "stream",
     "text": [
      "C:\\Users\\saras\\AppData\\Local\\Temp\\ipykernel_14212\\3423353337.py:1: SettingWithCopyWarning: \n",
      "A value is trying to be set on a copy of a slice from a DataFrame.\n",
      "Try using .loc[row_indexer,col_indexer] = value instead\n",
      "\n",
      "See the caveats in the documentation: https://pandas.pydata.org/pandas-docs/stable/user_guide/indexing.html#returning-a-view-versus-a-copy\n",
      "  df_5['Sex']= pd.get_dummies(df_5['Sex'],drop_first=True)\n"
     ]
    }
   ],
   "source": [
    "df_5['Sex']= pd.get_dummies(df_5['Sex'],drop_first=True)"
   ]
  },
  {
   "cell_type": "code",
   "execution_count": 15,
   "id": "f16a97ae-dd29-4157-ba11-9d506163f29c",
   "metadata": {},
   "outputs": [
    {
     "data": {
      "text/html": [
       "<div>\n",
       "<style scoped>\n",
       "    .dataframe tbody tr th:only-of-type {\n",
       "        vertical-align: middle;\n",
       "    }\n",
       "\n",
       "    .dataframe tbody tr th {\n",
       "        vertical-align: top;\n",
       "    }\n",
       "\n",
       "    .dataframe thead th {\n",
       "        text-align: right;\n",
       "    }\n",
       "</style>\n",
       "<table border=\"1\" class=\"dataframe\">\n",
       "  <thead>\n",
       "    <tr style=\"text-align: right;\">\n",
       "      <th></th>\n",
       "      <th>Age</th>\n",
       "      <th>Sex</th>\n",
       "      <th>ChestPainType</th>\n",
       "      <th>RestingBP</th>\n",
       "      <th>Cholesterol</th>\n",
       "      <th>FastingBS</th>\n",
       "      <th>RestingECG</th>\n",
       "      <th>MaxHR</th>\n",
       "      <th>ExerciseAngina</th>\n",
       "      <th>Oldpeak</th>\n",
       "      <th>ST_Slope</th>\n",
       "      <th>HeartDisease</th>\n",
       "      <th>zscoreBP</th>\n",
       "      <th>zscoreChole</th>\n",
       "      <th>zscoreBS</th>\n",
       "      <th>zscoreMaxHR</th>\n",
       "      <th>zscoreOldpeak</th>\n",
       "    </tr>\n",
       "  </thead>\n",
       "  <tbody>\n",
       "    <tr>\n",
       "      <th>0</th>\n",
       "      <td>40</td>\n",
       "      <td>1</td>\n",
       "      <td>ATA</td>\n",
       "      <td>140</td>\n",
       "      <td>289</td>\n",
       "      <td>0</td>\n",
       "      <td>Normal</td>\n",
       "      <td>172</td>\n",
       "      <td>N</td>\n",
       "      <td>0.0</td>\n",
       "      <td>Up</td>\n",
       "      <td>0</td>\n",
       "      <td>0.410685</td>\n",
       "      <td>0.824621</td>\n",
       "      <td>-0.551041</td>\n",
       "      <td>1.382175</td>\n",
       "      <td>-0.831979</td>\n",
       "    </tr>\n",
       "    <tr>\n",
       "      <th>1</th>\n",
       "      <td>49</td>\n",
       "      <td>0</td>\n",
       "      <td>NAP</td>\n",
       "      <td>160</td>\n",
       "      <td>180</td>\n",
       "      <td>0</td>\n",
       "      <td>Normal</td>\n",
       "      <td>156</td>\n",
       "      <td>N</td>\n",
       "      <td>1.0</td>\n",
       "      <td>Flat</td>\n",
       "      <td>1</td>\n",
       "      <td>1.490940</td>\n",
       "      <td>-0.171867</td>\n",
       "      <td>-0.551041</td>\n",
       "      <td>0.753746</td>\n",
       "      <td>0.105606</td>\n",
       "    </tr>\n",
       "  </tbody>\n",
       "</table>\n",
       "</div>"
      ],
      "text/plain": [
       "   Age  Sex ChestPainType  RestingBP  Cholesterol  FastingBS RestingECG  \\\n",
       "0   40    1           ATA        140          289          0     Normal   \n",
       "1   49    0           NAP        160          180          0     Normal   \n",
       "\n",
       "   MaxHR ExerciseAngina  Oldpeak ST_Slope  HeartDisease  zscoreBP  \\\n",
       "0    172              N      0.0       Up             0  0.410685   \n",
       "1    156              N      1.0     Flat             1  1.490940   \n",
       "\n",
       "   zscoreChole  zscoreBS  zscoreMaxHR  zscoreOldpeak  \n",
       "0     0.824621 -0.551041     1.382175      -0.831979  \n",
       "1    -0.171867 -0.551041     0.753746       0.105606  "
      ]
     },
     "execution_count": 15,
     "metadata": {},
     "output_type": "execute_result"
    }
   ],
   "source": [
    "df_5.head(2)"
   ]
  },
  {
   "cell_type": "code",
   "execution_count": 16,
   "id": "3eca61ef-e940-4afc-863f-175edeff5114",
   "metadata": {},
   "outputs": [
    {
     "data": {
      "text/plain": [
       "array(['ATA', 'NAP', 'ASY', 'TA'], dtype=object)"
      ]
     },
     "execution_count": 16,
     "metadata": {},
     "output_type": "execute_result"
    }
   ],
   "source": [
    "df_5.ChestPainType.unique()"
   ]
  },
  {
   "cell_type": "code",
   "execution_count": 17,
   "id": "bd76cd6e-1f9c-4d6c-a4d5-b201c6afb911",
   "metadata": {},
   "outputs": [
    {
     "data": {
      "text/plain": [
       "array(['Normal', 'ST', 'LVH'], dtype=object)"
      ]
     },
     "execution_count": 17,
     "metadata": {},
     "output_type": "execute_result"
    }
   ],
   "source": [
    "df_5.RestingECG.unique()"
   ]
  },
  {
   "cell_type": "code",
   "execution_count": 18,
   "id": "78995ac2-b3b7-47a0-9143-c603a606e2f5",
   "metadata": {},
   "outputs": [
    {
     "data": {
      "text/plain": [
       "array(['N', 'Y'], dtype=object)"
      ]
     },
     "execution_count": 18,
     "metadata": {},
     "output_type": "execute_result"
    }
   ],
   "source": [
    "df_5.ExerciseAngina.unique()"
   ]
  },
  {
   "cell_type": "code",
   "execution_count": 19,
   "id": "f2fb8a73-f353-4961-8f3d-363527f50527",
   "metadata": {},
   "outputs": [
    {
     "data": {
      "text/plain": [
       "array(['Up', 'Flat', 'Down'], dtype=object)"
      ]
     },
     "execution_count": 19,
     "metadata": {},
     "output_type": "execute_result"
    }
   ],
   "source": [
    "df_5.ST_Slope.unique()"
   ]
  },
  {
   "cell_type": "code",
   "execution_count": 20,
   "id": "094305a0-2732-4efe-8b28-744ef337c38c",
   "metadata": {},
   "outputs": [],
   "source": [
    "df_CPT=pd.get_dummies(df_5['ChestPainType'],drop_first=True)"
   ]
  },
  {
   "cell_type": "code",
   "execution_count": 21,
   "id": "2b13ce3f-37c6-405e-8c5a-dc83cd0dc89c",
   "metadata": {},
   "outputs": [],
   "source": [
    "df_RECG=pd.get_dummies(df_5['RestingECG'],drop_first=True)"
   ]
  },
  {
   "cell_type": "code",
   "execution_count": 22,
   "id": "437d8a6d-1e28-4a94-9250-1b54d8e22e45",
   "metadata": {},
   "outputs": [
    {
     "name": "stderr",
     "output_type": "stream",
     "text": [
      "C:\\Users\\saras\\AppData\\Local\\Temp\\ipykernel_14212\\1601104806.py:1: SettingWithCopyWarning: \n",
      "A value is trying to be set on a copy of a slice from a DataFrame.\n",
      "Try using .loc[row_indexer,col_indexer] = value instead\n",
      "\n",
      "See the caveats in the documentation: https://pandas.pydata.org/pandas-docs/stable/user_guide/indexing.html#returning-a-view-versus-a-copy\n",
      "  df_5['ExerciseAngina']= pd.get_dummies(df_5['ExerciseAngina'],drop_first=True)\n"
     ]
    }
   ],
   "source": [
    "df_5['ExerciseAngina']= pd.get_dummies(df_5['ExerciseAngina'],drop_first=True)"
   ]
  },
  {
   "cell_type": "code",
   "execution_count": 23,
   "id": "dbc9ecbe-c00c-44f4-a5fc-5a1813472a4f",
   "metadata": {},
   "outputs": [],
   "source": [
    "df_STS= pd.get_dummies(df_5['ST_Slope'],drop_first=True)"
   ]
  },
  {
   "cell_type": "code",
   "execution_count": 24,
   "id": "bcb84080-6eb7-41a9-be76-6baabaf11e4c",
   "metadata": {},
   "outputs": [
    {
     "name": "stderr",
     "output_type": "stream",
     "text": [
      "C:\\Users\\saras\\AppData\\Local\\Temp\\ipykernel_14212\\1286560877.py:1: SettingWithCopyWarning: \n",
      "A value is trying to be set on a copy of a slice from a DataFrame\n",
      "\n",
      "See the caveats in the documentation: https://pandas.pydata.org/pandas-docs/stable/user_guide/indexing.html#returning-a-view-versus-a-copy\n",
      "  df_5.drop(['ChestPainType','RestingECG','ST_Slope'],axis=1,inplace=True)\n"
     ]
    }
   ],
   "source": [
    "df_5.drop(['ChestPainType','RestingECG','ST_Slope'],axis=1,inplace=True)"
   ]
  },
  {
   "cell_type": "code",
   "execution_count": 34,
   "id": "39d50846-e7a2-4dd2-b034-d874af3a468e",
   "metadata": {},
   "outputs": [
    {
     "data": {
      "text/html": [
       "<div>\n",
       "<style scoped>\n",
       "    .dataframe tbody tr th:only-of-type {\n",
       "        vertical-align: middle;\n",
       "    }\n",
       "\n",
       "    .dataframe tbody tr th {\n",
       "        vertical-align: top;\n",
       "    }\n",
       "\n",
       "    .dataframe thead th {\n",
       "        text-align: right;\n",
       "    }\n",
       "</style>\n",
       "<table border=\"1\" class=\"dataframe\">\n",
       "  <thead>\n",
       "    <tr style=\"text-align: right;\">\n",
       "      <th></th>\n",
       "      <th>Age</th>\n",
       "      <th>Sex</th>\n",
       "      <th>RestingBP</th>\n",
       "      <th>Cholesterol</th>\n",
       "      <th>FastingBS</th>\n",
       "      <th>MaxHR</th>\n",
       "      <th>ExerciseAngina</th>\n",
       "      <th>Oldpeak</th>\n",
       "      <th>HeartDisease</th>\n",
       "      <th>zscoreBP</th>\n",
       "      <th>zscoreChole</th>\n",
       "      <th>zscoreBS</th>\n",
       "      <th>zscoreMaxHR</th>\n",
       "      <th>zscoreOldpeak</th>\n",
       "    </tr>\n",
       "  </thead>\n",
       "  <tbody>\n",
       "    <tr>\n",
       "      <th>0</th>\n",
       "      <td>40</td>\n",
       "      <td>1</td>\n",
       "      <td>140</td>\n",
       "      <td>289</td>\n",
       "      <td>0</td>\n",
       "      <td>172</td>\n",
       "      <td>0</td>\n",
       "      <td>0.0</td>\n",
       "      <td>0</td>\n",
       "      <td>0.410685</td>\n",
       "      <td>0.824621</td>\n",
       "      <td>-0.551041</td>\n",
       "      <td>1.382175</td>\n",
       "      <td>-0.831979</td>\n",
       "    </tr>\n",
       "    <tr>\n",
       "      <th>1</th>\n",
       "      <td>49</td>\n",
       "      <td>0</td>\n",
       "      <td>160</td>\n",
       "      <td>180</td>\n",
       "      <td>0</td>\n",
       "      <td>156</td>\n",
       "      <td>0</td>\n",
       "      <td>1.0</td>\n",
       "      <td>1</td>\n",
       "      <td>1.490940</td>\n",
       "      <td>-0.171867</td>\n",
       "      <td>-0.551041</td>\n",
       "      <td>0.753746</td>\n",
       "      <td>0.105606</td>\n",
       "    </tr>\n",
       "    <tr>\n",
       "      <th>2</th>\n",
       "      <td>37</td>\n",
       "      <td>1</td>\n",
       "      <td>130</td>\n",
       "      <td>283</td>\n",
       "      <td>0</td>\n",
       "      <td>98</td>\n",
       "      <td>0</td>\n",
       "      <td>0.0</td>\n",
       "      <td>0</td>\n",
       "      <td>-0.129442</td>\n",
       "      <td>0.769768</td>\n",
       "      <td>-0.551041</td>\n",
       "      <td>-1.524307</td>\n",
       "      <td>-0.831979</td>\n",
       "    </tr>\n",
       "    <tr>\n",
       "      <th>3</th>\n",
       "      <td>48</td>\n",
       "      <td>0</td>\n",
       "      <td>138</td>\n",
       "      <td>214</td>\n",
       "      <td>0</td>\n",
       "      <td>108</td>\n",
       "      <td>1</td>\n",
       "      <td>1.5</td>\n",
       "      <td>1</td>\n",
       "      <td>0.302660</td>\n",
       "      <td>0.138964</td>\n",
       "      <td>-0.551041</td>\n",
       "      <td>-1.131539</td>\n",
       "      <td>0.574398</td>\n",
       "    </tr>\n",
       "    <tr>\n",
       "      <th>4</th>\n",
       "      <td>54</td>\n",
       "      <td>1</td>\n",
       "      <td>150</td>\n",
       "      <td>195</td>\n",
       "      <td>0</td>\n",
       "      <td>122</td>\n",
       "      <td>0</td>\n",
       "      <td>0.0</td>\n",
       "      <td>0</td>\n",
       "      <td>0.950812</td>\n",
       "      <td>-0.034736</td>\n",
       "      <td>-0.551041</td>\n",
       "      <td>-0.581664</td>\n",
       "      <td>-0.831979</td>\n",
       "    </tr>\n",
       "  </tbody>\n",
       "</table>\n",
       "</div>"
      ],
      "text/plain": [
       "   Age  Sex  RestingBP  Cholesterol  FastingBS  MaxHR  ExerciseAngina  \\\n",
       "0   40    1        140          289          0    172               0   \n",
       "1   49    0        160          180          0    156               0   \n",
       "2   37    1        130          283          0     98               0   \n",
       "3   48    0        138          214          0    108               1   \n",
       "4   54    1        150          195          0    122               0   \n",
       "\n",
       "   Oldpeak  HeartDisease  zscoreBP  zscoreChole  zscoreBS  zscoreMaxHR  \\\n",
       "0      0.0             0  0.410685     0.824621 -0.551041     1.382175   \n",
       "1      1.0             1  1.490940    -0.171867 -0.551041     0.753746   \n",
       "2      0.0             0 -0.129442     0.769768 -0.551041    -1.524307   \n",
       "3      1.5             1  0.302660     0.138964 -0.551041    -1.131539   \n",
       "4      0.0             0  0.950812    -0.034736 -0.551041    -0.581664   \n",
       "\n",
       "   zscoreOldpeak  \n",
       "0      -0.831979  \n",
       "1       0.105606  \n",
       "2      -0.831979  \n",
       "3       0.574398  \n",
       "4      -0.831979  "
      ]
     },
     "execution_count": 34,
     "metadata": {},
     "output_type": "execute_result"
    }
   ],
   "source": [
    "df_5.head()"
   ]
  },
  {
   "cell_type": "code",
   "execution_count": 35,
   "id": "437e9d56-233b-435a-bf70-83510c7c38b6",
   "metadata": {},
   "outputs": [],
   "source": [
    "df_main=pd.concat([df_5,df_CPT,df_RECG,df_STS],axis=1)"
   ]
  },
  {
   "cell_type": "code",
   "execution_count": 36,
   "id": "cdf5ca06-ce8b-479d-9300-c738680a1721",
   "metadata": {},
   "outputs": [
    {
     "data": {
      "text/html": [
       "<div>\n",
       "<style scoped>\n",
       "    .dataframe tbody tr th:only-of-type {\n",
       "        vertical-align: middle;\n",
       "    }\n",
       "\n",
       "    .dataframe tbody tr th {\n",
       "        vertical-align: top;\n",
       "    }\n",
       "\n",
       "    .dataframe thead th {\n",
       "        text-align: right;\n",
       "    }\n",
       "</style>\n",
       "<table border=\"1\" class=\"dataframe\">\n",
       "  <thead>\n",
       "    <tr style=\"text-align: right;\">\n",
       "      <th></th>\n",
       "      <th>Age</th>\n",
       "      <th>Sex</th>\n",
       "      <th>RestingBP</th>\n",
       "      <th>Cholesterol</th>\n",
       "      <th>FastingBS</th>\n",
       "      <th>MaxHR</th>\n",
       "      <th>ExerciseAngina</th>\n",
       "      <th>Oldpeak</th>\n",
       "      <th>HeartDisease</th>\n",
       "      <th>zscoreBP</th>\n",
       "      <th>...</th>\n",
       "      <th>zscoreBS</th>\n",
       "      <th>zscoreMaxHR</th>\n",
       "      <th>zscoreOldpeak</th>\n",
       "      <th>ATA</th>\n",
       "      <th>NAP</th>\n",
       "      <th>TA</th>\n",
       "      <th>Normal</th>\n",
       "      <th>ST</th>\n",
       "      <th>Flat</th>\n",
       "      <th>Up</th>\n",
       "    </tr>\n",
       "  </thead>\n",
       "  <tbody>\n",
       "    <tr>\n",
       "      <th>0</th>\n",
       "      <td>40</td>\n",
       "      <td>1</td>\n",
       "      <td>140</td>\n",
       "      <td>289</td>\n",
       "      <td>0</td>\n",
       "      <td>172</td>\n",
       "      <td>0</td>\n",
       "      <td>0.0</td>\n",
       "      <td>0</td>\n",
       "      <td>0.410685</td>\n",
       "      <td>...</td>\n",
       "      <td>-0.551041</td>\n",
       "      <td>1.382175</td>\n",
       "      <td>-0.831979</td>\n",
       "      <td>1</td>\n",
       "      <td>0</td>\n",
       "      <td>0</td>\n",
       "      <td>1</td>\n",
       "      <td>0</td>\n",
       "      <td>0</td>\n",
       "      <td>1</td>\n",
       "    </tr>\n",
       "    <tr>\n",
       "      <th>1</th>\n",
       "      <td>49</td>\n",
       "      <td>0</td>\n",
       "      <td>160</td>\n",
       "      <td>180</td>\n",
       "      <td>0</td>\n",
       "      <td>156</td>\n",
       "      <td>0</td>\n",
       "      <td>1.0</td>\n",
       "      <td>1</td>\n",
       "      <td>1.490940</td>\n",
       "      <td>...</td>\n",
       "      <td>-0.551041</td>\n",
       "      <td>0.753746</td>\n",
       "      <td>0.105606</td>\n",
       "      <td>0</td>\n",
       "      <td>1</td>\n",
       "      <td>0</td>\n",
       "      <td>1</td>\n",
       "      <td>0</td>\n",
       "      <td>1</td>\n",
       "      <td>0</td>\n",
       "    </tr>\n",
       "    <tr>\n",
       "      <th>2</th>\n",
       "      <td>37</td>\n",
       "      <td>1</td>\n",
       "      <td>130</td>\n",
       "      <td>283</td>\n",
       "      <td>0</td>\n",
       "      <td>98</td>\n",
       "      <td>0</td>\n",
       "      <td>0.0</td>\n",
       "      <td>0</td>\n",
       "      <td>-0.129442</td>\n",
       "      <td>...</td>\n",
       "      <td>-0.551041</td>\n",
       "      <td>-1.524307</td>\n",
       "      <td>-0.831979</td>\n",
       "      <td>1</td>\n",
       "      <td>0</td>\n",
       "      <td>0</td>\n",
       "      <td>0</td>\n",
       "      <td>1</td>\n",
       "      <td>0</td>\n",
       "      <td>1</td>\n",
       "    </tr>\n",
       "    <tr>\n",
       "      <th>3</th>\n",
       "      <td>48</td>\n",
       "      <td>0</td>\n",
       "      <td>138</td>\n",
       "      <td>214</td>\n",
       "      <td>0</td>\n",
       "      <td>108</td>\n",
       "      <td>1</td>\n",
       "      <td>1.5</td>\n",
       "      <td>1</td>\n",
       "      <td>0.302660</td>\n",
       "      <td>...</td>\n",
       "      <td>-0.551041</td>\n",
       "      <td>-1.131539</td>\n",
       "      <td>0.574398</td>\n",
       "      <td>0</td>\n",
       "      <td>0</td>\n",
       "      <td>0</td>\n",
       "      <td>1</td>\n",
       "      <td>0</td>\n",
       "      <td>1</td>\n",
       "      <td>0</td>\n",
       "    </tr>\n",
       "    <tr>\n",
       "      <th>4</th>\n",
       "      <td>54</td>\n",
       "      <td>1</td>\n",
       "      <td>150</td>\n",
       "      <td>195</td>\n",
       "      <td>0</td>\n",
       "      <td>122</td>\n",
       "      <td>0</td>\n",
       "      <td>0.0</td>\n",
       "      <td>0</td>\n",
       "      <td>0.950812</td>\n",
       "      <td>...</td>\n",
       "      <td>-0.551041</td>\n",
       "      <td>-0.581664</td>\n",
       "      <td>-0.831979</td>\n",
       "      <td>0</td>\n",
       "      <td>1</td>\n",
       "      <td>0</td>\n",
       "      <td>1</td>\n",
       "      <td>0</td>\n",
       "      <td>0</td>\n",
       "      <td>1</td>\n",
       "    </tr>\n",
       "  </tbody>\n",
       "</table>\n",
       "<p>5 rows × 21 columns</p>\n",
       "</div>"
      ],
      "text/plain": [
       "   Age  Sex  RestingBP  Cholesterol  FastingBS  MaxHR  ExerciseAngina  \\\n",
       "0   40    1        140          289          0    172               0   \n",
       "1   49    0        160          180          0    156               0   \n",
       "2   37    1        130          283          0     98               0   \n",
       "3   48    0        138          214          0    108               1   \n",
       "4   54    1        150          195          0    122               0   \n",
       "\n",
       "   Oldpeak  HeartDisease  zscoreBP  ...  zscoreBS  zscoreMaxHR  zscoreOldpeak  \\\n",
       "0      0.0             0  0.410685  ... -0.551041     1.382175      -0.831979   \n",
       "1      1.0             1  1.490940  ... -0.551041     0.753746       0.105606   \n",
       "2      0.0             0 -0.129442  ... -0.551041    -1.524307      -0.831979   \n",
       "3      1.5             1  0.302660  ... -0.551041    -1.131539       0.574398   \n",
       "4      0.0             0  0.950812  ... -0.551041    -0.581664      -0.831979   \n",
       "\n",
       "   ATA  NAP  TA  Normal  ST  Flat  Up  \n",
       "0    1    0   0       1   0     0   1  \n",
       "1    0    1   0       1   0     1   0  \n",
       "2    1    0   0       0   1     0   1  \n",
       "3    0    0   0       1   0     1   0  \n",
       "4    0    1   0       1   0     0   1  \n",
       "\n",
       "[5 rows x 21 columns]"
      ]
     },
     "execution_count": 36,
     "metadata": {},
     "output_type": "execute_result"
    }
   ],
   "source": [
    "df_main.head()"
   ]
  },
  {
   "cell_type": "code",
   "execution_count": 37,
   "id": "868e8a2b-b2bd-4b0c-b2e2-b1f51705f937",
   "metadata": {},
   "outputs": [
    {
     "data": {
      "text/plain": [
       "Index(['Age', 'Sex', 'RestingBP', 'Cholesterol', 'FastingBS', 'MaxHR',\n",
       "       'ExerciseAngina', 'Oldpeak', 'HeartDisease', 'zscoreBP', 'zscoreChole',\n",
       "       'zscoreBS', 'zscoreMaxHR', 'zscoreOldpeak', 'ATA', 'NAP', 'TA',\n",
       "       'Normal', 'ST', 'Flat', 'Up'],\n",
       "      dtype='object')"
      ]
     },
     "execution_count": 37,
     "metadata": {},
     "output_type": "execute_result"
    }
   ],
   "source": [
    "df_main.columns"
   ]
  },
  {
   "cell_type": "code",
   "execution_count": 39,
   "id": "94d0c115-3a34-4966-af10-e16aca95d115",
   "metadata": {},
   "outputs": [],
   "source": [
    "df_main.drop(['HeartDisease','zscoreBP','zscoreChole','zscoreBS','zscoreMaxHR','zscoreOldpeak'],axis=1,inplace=True)"
   ]
  },
  {
   "cell_type": "code",
   "execution_count": 40,
   "id": "b83ba4f3-5f07-4a03-b128-a2161abe541a",
   "metadata": {},
   "outputs": [
    {
     "data": {
      "text/html": [
       "<div>\n",
       "<style scoped>\n",
       "    .dataframe tbody tr th:only-of-type {\n",
       "        vertical-align: middle;\n",
       "    }\n",
       "\n",
       "    .dataframe tbody tr th {\n",
       "        vertical-align: top;\n",
       "    }\n",
       "\n",
       "    .dataframe thead th {\n",
       "        text-align: right;\n",
       "    }\n",
       "</style>\n",
       "<table border=\"1\" class=\"dataframe\">\n",
       "  <thead>\n",
       "    <tr style=\"text-align: right;\">\n",
       "      <th></th>\n",
       "      <th>Age</th>\n",
       "      <th>Sex</th>\n",
       "      <th>RestingBP</th>\n",
       "      <th>Cholesterol</th>\n",
       "      <th>FastingBS</th>\n",
       "      <th>MaxHR</th>\n",
       "      <th>ExerciseAngina</th>\n",
       "      <th>Oldpeak</th>\n",
       "      <th>ATA</th>\n",
       "      <th>NAP</th>\n",
       "      <th>TA</th>\n",
       "      <th>Normal</th>\n",
       "      <th>ST</th>\n",
       "      <th>Flat</th>\n",
       "      <th>Up</th>\n",
       "    </tr>\n",
       "  </thead>\n",
       "  <tbody>\n",
       "    <tr>\n",
       "      <th>0</th>\n",
       "      <td>40</td>\n",
       "      <td>1</td>\n",
       "      <td>140</td>\n",
       "      <td>289</td>\n",
       "      <td>0</td>\n",
       "      <td>172</td>\n",
       "      <td>0</td>\n",
       "      <td>0.0</td>\n",
       "      <td>1</td>\n",
       "      <td>0</td>\n",
       "      <td>0</td>\n",
       "      <td>1</td>\n",
       "      <td>0</td>\n",
       "      <td>0</td>\n",
       "      <td>1</td>\n",
       "    </tr>\n",
       "    <tr>\n",
       "      <th>1</th>\n",
       "      <td>49</td>\n",
       "      <td>0</td>\n",
       "      <td>160</td>\n",
       "      <td>180</td>\n",
       "      <td>0</td>\n",
       "      <td>156</td>\n",
       "      <td>0</td>\n",
       "      <td>1.0</td>\n",
       "      <td>0</td>\n",
       "      <td>1</td>\n",
       "      <td>0</td>\n",
       "      <td>1</td>\n",
       "      <td>0</td>\n",
       "      <td>1</td>\n",
       "      <td>0</td>\n",
       "    </tr>\n",
       "    <tr>\n",
       "      <th>2</th>\n",
       "      <td>37</td>\n",
       "      <td>1</td>\n",
       "      <td>130</td>\n",
       "      <td>283</td>\n",
       "      <td>0</td>\n",
       "      <td>98</td>\n",
       "      <td>0</td>\n",
       "      <td>0.0</td>\n",
       "      <td>1</td>\n",
       "      <td>0</td>\n",
       "      <td>0</td>\n",
       "      <td>0</td>\n",
       "      <td>1</td>\n",
       "      <td>0</td>\n",
       "      <td>1</td>\n",
       "    </tr>\n",
       "    <tr>\n",
       "      <th>3</th>\n",
       "      <td>48</td>\n",
       "      <td>0</td>\n",
       "      <td>138</td>\n",
       "      <td>214</td>\n",
       "      <td>0</td>\n",
       "      <td>108</td>\n",
       "      <td>1</td>\n",
       "      <td>1.5</td>\n",
       "      <td>0</td>\n",
       "      <td>0</td>\n",
       "      <td>0</td>\n",
       "      <td>1</td>\n",
       "      <td>0</td>\n",
       "      <td>1</td>\n",
       "      <td>0</td>\n",
       "    </tr>\n",
       "    <tr>\n",
       "      <th>4</th>\n",
       "      <td>54</td>\n",
       "      <td>1</td>\n",
       "      <td>150</td>\n",
       "      <td>195</td>\n",
       "      <td>0</td>\n",
       "      <td>122</td>\n",
       "      <td>0</td>\n",
       "      <td>0.0</td>\n",
       "      <td>0</td>\n",
       "      <td>1</td>\n",
       "      <td>0</td>\n",
       "      <td>1</td>\n",
       "      <td>0</td>\n",
       "      <td>0</td>\n",
       "      <td>1</td>\n",
       "    </tr>\n",
       "  </tbody>\n",
       "</table>\n",
       "</div>"
      ],
      "text/plain": [
       "   Age  Sex  RestingBP  Cholesterol  FastingBS  MaxHR  ExerciseAngina  \\\n",
       "0   40    1        140          289          0    172               0   \n",
       "1   49    0        160          180          0    156               0   \n",
       "2   37    1        130          283          0     98               0   \n",
       "3   48    0        138          214          0    108               1   \n",
       "4   54    1        150          195          0    122               0   \n",
       "\n",
       "   Oldpeak  ATA  NAP  TA  Normal  ST  Flat  Up  \n",
       "0      0.0    1    0   0       1   0     0   1  \n",
       "1      1.0    0    1   0       1   0     1   0  \n",
       "2      0.0    1    0   0       0   1     0   1  \n",
       "3      1.5    0    0   0       1   0     1   0  \n",
       "4      0.0    0    1   0       1   0     0   1  "
      ]
     },
     "execution_count": 40,
     "metadata": {},
     "output_type": "execute_result"
    }
   ],
   "source": [
    "df_main.head()"
   ]
  },
  {
   "cell_type": "code",
   "execution_count": 41,
   "id": "1fc23d79-cac3-4a2e-8b09-655baac93038",
   "metadata": {},
   "outputs": [],
   "source": [
    "X=df_main"
   ]
  },
  {
   "cell_type": "code",
   "execution_count": 45,
   "id": "da498a89-a2a4-459b-ae04-f452e1c7130f",
   "metadata": {},
   "outputs": [],
   "source": [
    "y=df_5['HeartDisease']"
   ]
  },
  {
   "cell_type": "code",
   "execution_count": 46,
   "id": "acde61c1-d4ad-4782-8f8d-6eefb25f2525",
   "metadata": {},
   "outputs": [
    {
     "data": {
      "text/plain": [
       "array([[-1.42815446,  0.515943  ,  0.46590022, ..., -0.48989795,\n",
       "        -0.99888827,  1.13469459],\n",
       "       [-0.47585532, -1.93819859,  1.63471366, ..., -0.48989795,\n",
       "         1.00111297, -0.88129441],\n",
       "       [-1.7455875 ,  0.515943  , -0.1185065 , ...,  2.04124145,\n",
       "        -0.99888827,  1.13469459],\n",
       "       ...,\n",
       "       [ 0.3706328 ,  0.515943  , -0.1185065 , ..., -0.48989795,\n",
       "         1.00111297, -0.88129441],\n",
       "       [ 0.3706328 , -1.93819859, -0.1185065 , ..., -0.48989795,\n",
       "         1.00111297, -0.88129441],\n",
       "       [-1.63977649,  0.515943  ,  0.34901888, ..., -0.48989795,\n",
       "        -0.99888827,  1.13469459]])"
      ]
     },
     "execution_count": 46,
     "metadata": {},
     "output_type": "execute_result"
    }
   ],
   "source": [
    "from sklearn.preprocessing import StandardScaler\n",
    "\n",
    "scaler = StandardScaler()\n",
    "X_scaled = scaler.fit_transform(X)\n",
    "X_scaled"
   ]
  },
  {
   "cell_type": "code",
   "execution_count": 51,
   "id": "ca323169-5205-40cc-8dfa-3d8695912987",
   "metadata": {},
   "outputs": [],
   "source": [
    "from sklearn.svm import SVC\n",
    "from sklearn.ensemble import RandomForestClassifier\n",
    "from sklearn.linear_model import LogisticRegression\n",
    "from sklearn.model_selection import GridSearchCV"
   ]
  },
  {
   "cell_type": "code",
   "execution_count": 52,
   "id": "cc1ca6f5-5498-4bc6-9900-1a91b83313dc",
   "metadata": {},
   "outputs": [],
   "source": [
    "model_params = {\n",
    "    'svm':{\n",
    "        'model':SVC(gamma='auto'),\n",
    "        'params':{\n",
    "            'C':[1,10,20],\n",
    "            'kernel':['rbf','linear']\n",
    "        }\n",
    "    },\n",
    "    'randomclassifier':{\n",
    "        'model':RandomForestClassifier(),\n",
    "        'params':{\n",
    "            'n_estimators':[1,5,10]\n",
    "            \n",
    "        }\n",
    "        \n",
    "    },\n",
    "    'logistic_regression':{\n",
    "        'model':LogisticRegression(solver='liblinear',multi_class='auto'),\n",
    "        'params':{\n",
    "            'C':[1,5,10]\n",
    "        }\n",
    "    }\n",
    "    \n",
    "}"
   ]
  },
  {
   "cell_type": "code",
   "execution_count": 53,
   "id": "36b6532a-7186-4685-b533-31498c67f1f9",
   "metadata": {},
   "outputs": [],
   "source": [
    "scores=[]\n",
    "for model_name,mp in model_params.items():\n",
    "    clf=GridSearchCV(mp['model'],mp['params'],cv=5,return_train_score=False)\n",
    "    clf.fit(X_scaled,y)\n",
    "    scores.append({\n",
    "        'model':model_name,\n",
    "        'best_params':clf.best_params_,\n",
    "        'best_score':clf.best_score_\n",
    "    })"
   ]
  },
  {
   "cell_type": "code",
   "execution_count": 54,
   "id": "b781cfe2-cb81-49b5-a870-07a44656d84a",
   "metadata": {},
   "outputs": [
    {
     "data": {
      "text/html": [
       "<div>\n",
       "<style scoped>\n",
       "    .dataframe tbody tr th:only-of-type {\n",
       "        vertical-align: middle;\n",
       "    }\n",
       "\n",
       "    .dataframe tbody tr th {\n",
       "        vertical-align: top;\n",
       "    }\n",
       "\n",
       "    .dataframe thead th {\n",
       "        text-align: right;\n",
       "    }\n",
       "</style>\n",
       "<table border=\"1\" class=\"dataframe\">\n",
       "  <thead>\n",
       "    <tr style=\"text-align: right;\">\n",
       "      <th></th>\n",
       "      <th>model</th>\n",
       "      <th>best_params</th>\n",
       "      <th>best_score</th>\n",
       "    </tr>\n",
       "  </thead>\n",
       "  <tbody>\n",
       "    <tr>\n",
       "      <th>0</th>\n",
       "      <td>svm</td>\n",
       "      <td>{'C': 1, 'kernel': 'rbf'}</td>\n",
       "      <td>0.831962</td>\n",
       "    </tr>\n",
       "    <tr>\n",
       "      <th>1</th>\n",
       "      <td>randomclassifier</td>\n",
       "      <td>{'n_estimators': 10}</td>\n",
       "      <td>0.795214</td>\n",
       "    </tr>\n",
       "    <tr>\n",
       "      <th>2</th>\n",
       "      <td>logistic_regression</td>\n",
       "      <td>{'C': 10}</td>\n",
       "      <td>0.828634</td>\n",
       "    </tr>\n",
       "  </tbody>\n",
       "</table>\n",
       "</div>"
      ],
      "text/plain": [
       "                 model                best_params  best_score\n",
       "0                  svm  {'C': 1, 'kernel': 'rbf'}    0.831962\n",
       "1     randomclassifier       {'n_estimators': 10}    0.795214\n",
       "2  logistic_regression                  {'C': 10}    0.828634"
      ]
     },
     "execution_count": 54,
     "metadata": {},
     "output_type": "execute_result"
    }
   ],
   "source": [
    "df_best= pd.DataFrame(scores,columns=['model','best_params','best_score'])\n",
    "df_best"
   ]
  },
  {
   "cell_type": "code",
   "execution_count": 67,
   "id": "2d39678b-6af9-4321-808c-9907b7c03963",
   "metadata": {},
   "outputs": [
    {
     "data": {
      "text/plain": [
       "array([[ 3.1127753 , -0.41658958,  0.66578215, ...,  0.18819508,\n",
       "        -0.11003054,  0.27117526],\n",
       "       [ 0.19020862, -1.07624669,  0.91867491, ...,  1.02192511,\n",
       "        -0.23292103, -0.16634318],\n",
       "       [ 1.63879275,  2.18185473,  0.41776913, ..., -0.59357507,\n",
       "        -2.04145124,  0.13946001],\n",
       "       ...,\n",
       "       [-1.77715593, -1.47905475, -0.30823014, ...,  0.09497848,\n",
       "         0.37862368,  0.12794198],\n",
       "       [ 1.10463024,  0.20458484,  1.84982607, ...,  1.07153522,\n",
       "         1.39743338,  0.34416985],\n",
       "       [ 2.51254528, -0.47243606, -0.90466298, ...,  0.11362542,\n",
       "        -0.06814383, -0.01807308]])"
      ]
     },
     "execution_count": 67,
     "metadata": {},
     "output_type": "execute_result"
    }
   ],
   "source": [
    "from sklearn.decomposition import PCA\n",
    "\n",
    "pca = PCA(0.95)\n",
    "X_pca = pca.fit_transform(X_scaled)\n",
    "X_pca"
   ]
  },
  {
   "cell_type": "code",
   "execution_count": 68,
   "id": "9950d98e-9129-4d5c-94f7-631e50bada02",
   "metadata": {},
   "outputs": [],
   "source": [
    "model_params = {\n",
    "    'svm':{\n",
    "        'model':SVC(gamma='auto'),\n",
    "        'params':{\n",
    "            'C':[1,10,20],\n",
    "            'kernel':['rbf','linear']\n",
    "        }\n",
    "    },\n",
    "    'randomclassifier':{\n",
    "        'model':RandomForestClassifier(),\n",
    "        'params':{\n",
    "            'n_estimators':[1,5,10]\n",
    "            \n",
    "        }\n",
    "        \n",
    "    },\n",
    "    'logistic_regression':{\n",
    "        'model':LogisticRegression(solver='liblinear',multi_class='auto'),\n",
    "        'params':{\n",
    "            'C':[1,5,10]\n",
    "        }\n",
    "    }\n",
    "    \n",
    "}"
   ]
  },
  {
   "cell_type": "code",
   "execution_count": 69,
   "id": "9b7d7bcf-27ba-4f39-a145-01829809dd48",
   "metadata": {},
   "outputs": [],
   "source": [
    "scores=[]\n",
    "for model_name,mp in model_params.items():\n",
    "    clf=GridSearchCV(mp['model'],mp['params'],cv=5,return_train_score=False)\n",
    "    clf.fit(X_pca,y)\n",
    "    scores.append({\n",
    "        'model':model_name,\n",
    "        'best_params':clf.best_params_,\n",
    "        'best_score':clf.best_score_\n",
    "    })"
   ]
  },
  {
   "cell_type": "code",
   "execution_count": 70,
   "id": "50af6eb3-e940-487e-95f8-5b3337ecb9c7",
   "metadata": {},
   "outputs": [
    {
     "data": {
      "text/html": [
       "<div>\n",
       "<style scoped>\n",
       "    .dataframe tbody tr th:only-of-type {\n",
       "        vertical-align: middle;\n",
       "    }\n",
       "\n",
       "    .dataframe tbody tr th {\n",
       "        vertical-align: top;\n",
       "    }\n",
       "\n",
       "    .dataframe thead th {\n",
       "        text-align: right;\n",
       "    }\n",
       "</style>\n",
       "<table border=\"1\" class=\"dataframe\">\n",
       "  <thead>\n",
       "    <tr style=\"text-align: right;\">\n",
       "      <th></th>\n",
       "      <th>model</th>\n",
       "      <th>best_params</th>\n",
       "      <th>best_score</th>\n",
       "    </tr>\n",
       "  </thead>\n",
       "  <tbody>\n",
       "    <tr>\n",
       "      <th>0</th>\n",
       "      <td>svm</td>\n",
       "      <td>{'C': 1, 'kernel': 'rbf'}</td>\n",
       "      <td>0.829733</td>\n",
       "    </tr>\n",
       "    <tr>\n",
       "      <th>1</th>\n",
       "      <td>randomclassifier</td>\n",
       "      <td>{'n_estimators': 10}</td>\n",
       "      <td>0.814140</td>\n",
       "    </tr>\n",
       "    <tr>\n",
       "      <th>2</th>\n",
       "      <td>logistic_regression</td>\n",
       "      <td>{'C': 1}</td>\n",
       "      <td>0.827505</td>\n",
       "    </tr>\n",
       "  </tbody>\n",
       "</table>\n",
       "</div>"
      ],
      "text/plain": [
       "                 model                best_params  best_score\n",
       "0                  svm  {'C': 1, 'kernel': 'rbf'}    0.829733\n",
       "1     randomclassifier       {'n_estimators': 10}    0.814140\n",
       "2  logistic_regression                   {'C': 1}    0.827505"
      ]
     },
     "execution_count": 70,
     "metadata": {},
     "output_type": "execute_result"
    }
   ],
   "source": [
    "df_bestpca= pd.DataFrame(scores,columns=['model','best_params','best_score'])\n",
    "df_bestpca"
   ]
  },
  {
   "cell_type": "code",
   "execution_count": null,
   "id": "02b45194-fa39-48c4-b2c0-4cad74c38dda",
   "metadata": {},
   "outputs": [],
   "source": []
  },
  {
   "cell_type": "code",
   "execution_count": null,
   "id": "a7f2702c-d857-48ad-aa3b-cb7ca16830b5",
   "metadata": {},
   "outputs": [],
   "source": []
  }
 ],
 "metadata": {
  "kernelspec": {
   "display_name": "Python 3 (ipykernel)",
   "language": "python",
   "name": "python3"
  },
  "language_info": {
   "codemirror_mode": {
    "name": "ipython",
    "version": 3
   },
   "file_extension": ".py",
   "mimetype": "text/x-python",
   "name": "python",
   "nbconvert_exporter": "python",
   "pygments_lexer": "ipython3",
   "version": "3.8.18"
  }
 },
 "nbformat": 4,
 "nbformat_minor": 5
}

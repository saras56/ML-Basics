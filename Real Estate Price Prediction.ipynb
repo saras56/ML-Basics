{
 "cells": [
  {
   "cell_type": "code",
   "execution_count": 367,
   "id": "9a1193ed-8790-47e4-acfc-7939aa4caa4a",
   "metadata": {},
   "outputs": [],
   "source": [
    "import pandas as pd\n",
    "import matplotlib.pyplot as plt\n",
    "import seaborn as sns\n",
    "import numpy as np\n",
    "%matplotlib inline"
   ]
  },
  {
   "cell_type": "code",
   "execution_count": 368,
   "id": "0e9ba868-a2d5-4140-b5a5-62b0ed96fc74",
   "metadata": {},
   "outputs": [
    {
     "data": {
      "text/html": [
       "<div>\n",
       "<style scoped>\n",
       "    .dataframe tbody tr th:only-of-type {\n",
       "        vertical-align: middle;\n",
       "    }\n",
       "\n",
       "    .dataframe tbody tr th {\n",
       "        vertical-align: top;\n",
       "    }\n",
       "\n",
       "    .dataframe thead th {\n",
       "        text-align: right;\n",
       "    }\n",
       "</style>\n",
       "<table border=\"1\" class=\"dataframe\">\n",
       "  <thead>\n",
       "    <tr style=\"text-align: right;\">\n",
       "      <th></th>\n",
       "      <th>area_type</th>\n",
       "      <th>availability</th>\n",
       "      <th>location</th>\n",
       "      <th>size</th>\n",
       "      <th>society</th>\n",
       "      <th>total_sqft</th>\n",
       "      <th>bath</th>\n",
       "      <th>balcony</th>\n",
       "      <th>price</th>\n",
       "    </tr>\n",
       "  </thead>\n",
       "  <tbody>\n",
       "    <tr>\n",
       "      <th>0</th>\n",
       "      <td>Super built-up  Area</td>\n",
       "      <td>19-Dec</td>\n",
       "      <td>Electronic City Phase II</td>\n",
       "      <td>2 BHK</td>\n",
       "      <td>Coomee</td>\n",
       "      <td>1056</td>\n",
       "      <td>2.0</td>\n",
       "      <td>1.0</td>\n",
       "      <td>39.07</td>\n",
       "    </tr>\n",
       "    <tr>\n",
       "      <th>1</th>\n",
       "      <td>Plot  Area</td>\n",
       "      <td>Ready To Move</td>\n",
       "      <td>Chikka Tirupathi</td>\n",
       "      <td>4 Bedroom</td>\n",
       "      <td>Theanmp</td>\n",
       "      <td>2600</td>\n",
       "      <td>5.0</td>\n",
       "      <td>3.0</td>\n",
       "      <td>120.00</td>\n",
       "    </tr>\n",
       "    <tr>\n",
       "      <th>2</th>\n",
       "      <td>Built-up  Area</td>\n",
       "      <td>Ready To Move</td>\n",
       "      <td>Uttarahalli</td>\n",
       "      <td>3 BHK</td>\n",
       "      <td>NaN</td>\n",
       "      <td>1440</td>\n",
       "      <td>2.0</td>\n",
       "      <td>3.0</td>\n",
       "      <td>62.00</td>\n",
       "    </tr>\n",
       "    <tr>\n",
       "      <th>3</th>\n",
       "      <td>Super built-up  Area</td>\n",
       "      <td>Ready To Move</td>\n",
       "      <td>Lingadheeranahalli</td>\n",
       "      <td>3 BHK</td>\n",
       "      <td>Soiewre</td>\n",
       "      <td>1521</td>\n",
       "      <td>3.0</td>\n",
       "      <td>1.0</td>\n",
       "      <td>95.00</td>\n",
       "    </tr>\n",
       "    <tr>\n",
       "      <th>4</th>\n",
       "      <td>Super built-up  Area</td>\n",
       "      <td>Ready To Move</td>\n",
       "      <td>Kothanur</td>\n",
       "      <td>2 BHK</td>\n",
       "      <td>NaN</td>\n",
       "      <td>1200</td>\n",
       "      <td>2.0</td>\n",
       "      <td>1.0</td>\n",
       "      <td>51.00</td>\n",
       "    </tr>\n",
       "  </tbody>\n",
       "</table>\n",
       "</div>"
      ],
      "text/plain": [
       "              area_type   availability                  location       size  \\\n",
       "0  Super built-up  Area         19-Dec  Electronic City Phase II      2 BHK   \n",
       "1            Plot  Area  Ready To Move          Chikka Tirupathi  4 Bedroom   \n",
       "2        Built-up  Area  Ready To Move               Uttarahalli      3 BHK   \n",
       "3  Super built-up  Area  Ready To Move        Lingadheeranahalli      3 BHK   \n",
       "4  Super built-up  Area  Ready To Move                  Kothanur      2 BHK   \n",
       "\n",
       "   society total_sqft  bath  balcony   price  \n",
       "0  Coomee        1056   2.0      1.0   39.07  \n",
       "1  Theanmp       2600   5.0      3.0  120.00  \n",
       "2      NaN       1440   2.0      3.0   62.00  \n",
       "3  Soiewre       1521   3.0      1.0   95.00  \n",
       "4      NaN       1200   2.0      1.0   51.00  "
      ]
     },
     "execution_count": 368,
     "metadata": {},
     "output_type": "execute_result"
    }
   ],
   "source": [
    "df = pd.read_csv('Bengaluru_House_Data.csv')\n",
    "df.head()"
   ]
  },
  {
   "cell_type": "code",
   "execution_count": 369,
   "id": "c508793e-972d-413c-8b20-c9e4bc6ca852",
   "metadata": {},
   "outputs": [
    {
     "data": {
      "text/plain": [
       "area_type          0\n",
       "availability       0\n",
       "location           1\n",
       "size              16\n",
       "society         5502\n",
       "total_sqft         0\n",
       "bath              73\n",
       "balcony          609\n",
       "price              0\n",
       "dtype: int64"
      ]
     },
     "execution_count": 369,
     "metadata": {},
     "output_type": "execute_result"
    }
   ],
   "source": [
    "df.isnull().sum()"
   ]
  },
  {
   "cell_type": "code",
   "execution_count": 370,
   "id": "1ccefd07-8506-4e97-8309-c8b541bd8c48",
   "metadata": {},
   "outputs": [
    {
     "data": {
      "text/plain": [
       "(13320, 9)"
      ]
     },
     "execution_count": 370,
     "metadata": {},
     "output_type": "execute_result"
    }
   ],
   "source": [
    "df.shape"
   ]
  },
  {
   "cell_type": "code",
   "execution_count": 371,
   "id": "d9461faf-d3db-4746-9914-086eb6a7708d",
   "metadata": {},
   "outputs": [],
   "source": [
    "df.drop(['area_type','availability','society'],axis=1,inplace=True)"
   ]
  },
  {
   "cell_type": "code",
   "execution_count": 372,
   "id": "2db9d3fd-f8bc-40c2-9de1-c8876baaf2e5",
   "metadata": {},
   "outputs": [
    {
     "data": {
      "text/html": [
       "<div>\n",
       "<style scoped>\n",
       "    .dataframe tbody tr th:only-of-type {\n",
       "        vertical-align: middle;\n",
       "    }\n",
       "\n",
       "    .dataframe tbody tr th {\n",
       "        vertical-align: top;\n",
       "    }\n",
       "\n",
       "    .dataframe thead th {\n",
       "        text-align: right;\n",
       "    }\n",
       "</style>\n",
       "<table border=\"1\" class=\"dataframe\">\n",
       "  <thead>\n",
       "    <tr style=\"text-align: right;\">\n",
       "      <th></th>\n",
       "      <th>location</th>\n",
       "      <th>size</th>\n",
       "      <th>total_sqft</th>\n",
       "      <th>bath</th>\n",
       "      <th>balcony</th>\n",
       "      <th>price</th>\n",
       "    </tr>\n",
       "  </thead>\n",
       "  <tbody>\n",
       "    <tr>\n",
       "      <th>0</th>\n",
       "      <td>Electronic City Phase II</td>\n",
       "      <td>2 BHK</td>\n",
       "      <td>1056</td>\n",
       "      <td>2.0</td>\n",
       "      <td>1.0</td>\n",
       "      <td>39.07</td>\n",
       "    </tr>\n",
       "    <tr>\n",
       "      <th>1</th>\n",
       "      <td>Chikka Tirupathi</td>\n",
       "      <td>4 Bedroom</td>\n",
       "      <td>2600</td>\n",
       "      <td>5.0</td>\n",
       "      <td>3.0</td>\n",
       "      <td>120.00</td>\n",
       "    </tr>\n",
       "    <tr>\n",
       "      <th>2</th>\n",
       "      <td>Uttarahalli</td>\n",
       "      <td>3 BHK</td>\n",
       "      <td>1440</td>\n",
       "      <td>2.0</td>\n",
       "      <td>3.0</td>\n",
       "      <td>62.00</td>\n",
       "    </tr>\n",
       "    <tr>\n",
       "      <th>3</th>\n",
       "      <td>Lingadheeranahalli</td>\n",
       "      <td>3 BHK</td>\n",
       "      <td>1521</td>\n",
       "      <td>3.0</td>\n",
       "      <td>1.0</td>\n",
       "      <td>95.00</td>\n",
       "    </tr>\n",
       "    <tr>\n",
       "      <th>4</th>\n",
       "      <td>Kothanur</td>\n",
       "      <td>2 BHK</td>\n",
       "      <td>1200</td>\n",
       "      <td>2.0</td>\n",
       "      <td>1.0</td>\n",
       "      <td>51.00</td>\n",
       "    </tr>\n",
       "  </tbody>\n",
       "</table>\n",
       "</div>"
      ],
      "text/plain": [
       "                   location       size total_sqft  bath  balcony   price\n",
       "0  Electronic City Phase II      2 BHK       1056   2.0      1.0   39.07\n",
       "1          Chikka Tirupathi  4 Bedroom       2600   5.0      3.0  120.00\n",
       "2               Uttarahalli      3 BHK       1440   2.0      3.0   62.00\n",
       "3        Lingadheeranahalli      3 BHK       1521   3.0      1.0   95.00\n",
       "4                  Kothanur      2 BHK       1200   2.0      1.0   51.00"
      ]
     },
     "execution_count": 372,
     "metadata": {},
     "output_type": "execute_result"
    }
   ],
   "source": [
    "df.head()"
   ]
  },
  {
   "cell_type": "markdown",
   "id": "ba54a3f3-68cc-459b-9cd1-97dd60b5853f",
   "metadata": {},
   "source": [
    "#### Handling NA values"
   ]
  },
  {
   "cell_type": "code",
   "execution_count": 373,
   "id": "265aba90-7606-4cf8-875c-d1acb7bd31f3",
   "metadata": {},
   "outputs": [
    {
     "data": {
      "text/plain": [
       "location        1\n",
       "size           16\n",
       "total_sqft      0\n",
       "bath           73\n",
       "balcony       609\n",
       "price           0\n",
       "dtype: int64"
      ]
     },
     "execution_count": 373,
     "metadata": {},
     "output_type": "execute_result"
    }
   ],
   "source": [
    "df.isnull().sum()"
   ]
  },
  {
   "cell_type": "code",
   "execution_count": 374,
   "id": "e319b792-9d68-48ef-b06c-2341bdf7e66d",
   "metadata": {},
   "outputs": [],
   "source": [
    "#fill na values\n",
    "df.balcony = df.balcony.fillna(df.balcony.median())\n",
    "df.bath = df.bath.fillna(df.bath.median())"
   ]
  },
  {
   "cell_type": "code",
   "execution_count": 375,
   "id": "eb8a2f94-ea2d-408f-91e4-1811eac0ece9",
   "metadata": {},
   "outputs": [],
   "source": [
    "df1=df.dropna()"
   ]
  },
  {
   "cell_type": "code",
   "execution_count": 376,
   "id": "24c78330-5f64-462f-9381-f3c9e85ccd73",
   "metadata": {},
   "outputs": [
    {
     "data": {
      "text/plain": [
       "location      0\n",
       "size          0\n",
       "total_sqft    0\n",
       "bath          0\n",
       "balcony       0\n",
       "price         0\n",
       "dtype: int64"
      ]
     },
     "execution_count": 376,
     "metadata": {},
     "output_type": "execute_result"
    }
   ],
   "source": [
    "df1.isnull().sum()"
   ]
  },
  {
   "cell_type": "code",
   "execution_count": 377,
   "id": "348ed2b4-8404-4935-b15a-0af09ac62570",
   "metadata": {},
   "outputs": [
    {
     "data": {
      "text/html": [
       "<div>\n",
       "<style scoped>\n",
       "    .dataframe tbody tr th:only-of-type {\n",
       "        vertical-align: middle;\n",
       "    }\n",
       "\n",
       "    .dataframe tbody tr th {\n",
       "        vertical-align: top;\n",
       "    }\n",
       "\n",
       "    .dataframe thead th {\n",
       "        text-align: right;\n",
       "    }\n",
       "</style>\n",
       "<table border=\"1\" class=\"dataframe\">\n",
       "  <thead>\n",
       "    <tr style=\"text-align: right;\">\n",
       "      <th></th>\n",
       "      <th>location</th>\n",
       "      <th>size</th>\n",
       "      <th>total_sqft</th>\n",
       "      <th>bath</th>\n",
       "      <th>balcony</th>\n",
       "      <th>price</th>\n",
       "    </tr>\n",
       "  </thead>\n",
       "  <tbody>\n",
       "    <tr>\n",
       "      <th>0</th>\n",
       "      <td>Electronic City Phase II</td>\n",
       "      <td>2 BHK</td>\n",
       "      <td>1056</td>\n",
       "      <td>2.0</td>\n",
       "      <td>1.0</td>\n",
       "      <td>39.07</td>\n",
       "    </tr>\n",
       "    <tr>\n",
       "      <th>1</th>\n",
       "      <td>Chikka Tirupathi</td>\n",
       "      <td>4 Bedroom</td>\n",
       "      <td>2600</td>\n",
       "      <td>5.0</td>\n",
       "      <td>3.0</td>\n",
       "      <td>120.00</td>\n",
       "    </tr>\n",
       "    <tr>\n",
       "      <th>2</th>\n",
       "      <td>Uttarahalli</td>\n",
       "      <td>3 BHK</td>\n",
       "      <td>1440</td>\n",
       "      <td>2.0</td>\n",
       "      <td>3.0</td>\n",
       "      <td>62.00</td>\n",
       "    </tr>\n",
       "    <tr>\n",
       "      <th>3</th>\n",
       "      <td>Lingadheeranahalli</td>\n",
       "      <td>3 BHK</td>\n",
       "      <td>1521</td>\n",
       "      <td>3.0</td>\n",
       "      <td>1.0</td>\n",
       "      <td>95.00</td>\n",
       "    </tr>\n",
       "    <tr>\n",
       "      <th>4</th>\n",
       "      <td>Kothanur</td>\n",
       "      <td>2 BHK</td>\n",
       "      <td>1200</td>\n",
       "      <td>2.0</td>\n",
       "      <td>1.0</td>\n",
       "      <td>51.00</td>\n",
       "    </tr>\n",
       "  </tbody>\n",
       "</table>\n",
       "</div>"
      ],
      "text/plain": [
       "                   location       size total_sqft  bath  balcony   price\n",
       "0  Electronic City Phase II      2 BHK       1056   2.0      1.0   39.07\n",
       "1          Chikka Tirupathi  4 Bedroom       2600   5.0      3.0  120.00\n",
       "2               Uttarahalli      3 BHK       1440   2.0      3.0   62.00\n",
       "3        Lingadheeranahalli      3 BHK       1521   3.0      1.0   95.00\n",
       "4                  Kothanur      2 BHK       1200   2.0      1.0   51.00"
      ]
     },
     "execution_count": 377,
     "metadata": {},
     "output_type": "execute_result"
    }
   ],
   "source": [
    "df1.head()"
   ]
  },
  {
   "cell_type": "markdown",
   "id": "0bf97988-954a-4531-b21f-834970419a30",
   "metadata": {},
   "source": [
    "#### Feature Engineering"
   ]
  },
  {
   "cell_type": "code",
   "execution_count": 378,
   "id": "b91624dd-341b-4c1a-8768-7569e6efa918",
   "metadata": {},
   "outputs": [
    {
     "data": {
      "text/plain": [
       "array(['2 BHK', '4 Bedroom', '3 BHK', '4 BHK', '6 Bedroom', '3 Bedroom',\n",
       "       '1 BHK', '1 RK', '1 Bedroom', '8 Bedroom', '2 Bedroom',\n",
       "       '7 Bedroom', '5 BHK', '7 BHK', '6 BHK', '5 Bedroom', '11 BHK',\n",
       "       '9 BHK', '9 Bedroom', '27 BHK', '10 Bedroom', '11 Bedroom',\n",
       "       '10 BHK', '19 BHK', '16 BHK', '43 Bedroom', '14 BHK', '8 BHK',\n",
       "       '12 Bedroom', '13 BHK', '18 Bedroom'], dtype=object)"
      ]
     },
     "execution_count": 378,
     "metadata": {},
     "output_type": "execute_result"
    }
   ],
   "source": [
    "df1['size'].unique()"
   ]
  },
  {
   "cell_type": "code",
   "execution_count": 379,
   "id": "bfd5f16c-ff7a-4aa1-b729-c6a1c3c018ed",
   "metadata": {},
   "outputs": [
    {
     "data": {
      "text/plain": [
       "0        2\n",
       "1        4\n",
       "2        3\n",
       "3        3\n",
       "4        2\n",
       "        ..\n",
       "13315    5\n",
       "13316    4\n",
       "13317    2\n",
       "13318    4\n",
       "13319    1\n",
       "Name: size, Length: 13303, dtype: object"
      ]
     },
     "execution_count": 379,
     "metadata": {},
     "output_type": "execute_result"
    }
   ],
   "source": [
    "df1['size'].str.split(' ').str[0]"
   ]
  },
  {
   "cell_type": "code",
   "execution_count": 380,
   "id": "aa763f3b-9e16-4aa4-ba1e-4fa87d15b662",
   "metadata": {},
   "outputs": [
    {
     "name": "stderr",
     "output_type": "stream",
     "text": [
      "C:\\Users\\saras\\AppData\\Local\\Temp\\ipykernel_2972\\2716941686.py:2: SettingWithCopyWarning: \n",
      "A value is trying to be set on a copy of a slice from a DataFrame.\n",
      "Try using .loc[row_indexer,col_indexer] = value instead\n",
      "\n",
      "See the caveats in the documentation: https://pandas.pydata.org/pandas-docs/stable/user_guide/indexing.html#returning-a-view-versus-a-copy\n",
      "  df1['size']=df1['size'].apply(lambda x : x.split(' ')[0])\n"
     ]
    }
   ],
   "source": [
    "# Make size integer values \n",
    "df1['size']=df1['size'].apply(lambda x : x.split(' ')[0])"
   ]
  },
  {
   "cell_type": "code",
   "execution_count": 381,
   "id": "3ccf728f-fbdd-4099-be4e-b0efa0c90c4b",
   "metadata": {},
   "outputs": [
    {
     "data": {
      "text/html": [
       "<div>\n",
       "<style scoped>\n",
       "    .dataframe tbody tr th:only-of-type {\n",
       "        vertical-align: middle;\n",
       "    }\n",
       "\n",
       "    .dataframe tbody tr th {\n",
       "        vertical-align: top;\n",
       "    }\n",
       "\n",
       "    .dataframe thead th {\n",
       "        text-align: right;\n",
       "    }\n",
       "</style>\n",
       "<table border=\"1\" class=\"dataframe\">\n",
       "  <thead>\n",
       "    <tr style=\"text-align: right;\">\n",
       "      <th></th>\n",
       "      <th>location</th>\n",
       "      <th>size</th>\n",
       "      <th>total_sqft</th>\n",
       "      <th>bath</th>\n",
       "      <th>balcony</th>\n",
       "      <th>price</th>\n",
       "    </tr>\n",
       "  </thead>\n",
       "  <tbody>\n",
       "    <tr>\n",
       "      <th>0</th>\n",
       "      <td>Electronic City Phase II</td>\n",
       "      <td>2</td>\n",
       "      <td>1056</td>\n",
       "      <td>2.0</td>\n",
       "      <td>1.0</td>\n",
       "      <td>39.07</td>\n",
       "    </tr>\n",
       "    <tr>\n",
       "      <th>1</th>\n",
       "      <td>Chikka Tirupathi</td>\n",
       "      <td>4</td>\n",
       "      <td>2600</td>\n",
       "      <td>5.0</td>\n",
       "      <td>3.0</td>\n",
       "      <td>120.00</td>\n",
       "    </tr>\n",
       "    <tr>\n",
       "      <th>2</th>\n",
       "      <td>Uttarahalli</td>\n",
       "      <td>3</td>\n",
       "      <td>1440</td>\n",
       "      <td>2.0</td>\n",
       "      <td>3.0</td>\n",
       "      <td>62.00</td>\n",
       "    </tr>\n",
       "    <tr>\n",
       "      <th>3</th>\n",
       "      <td>Lingadheeranahalli</td>\n",
       "      <td>3</td>\n",
       "      <td>1521</td>\n",
       "      <td>3.0</td>\n",
       "      <td>1.0</td>\n",
       "      <td>95.00</td>\n",
       "    </tr>\n",
       "    <tr>\n",
       "      <th>4</th>\n",
       "      <td>Kothanur</td>\n",
       "      <td>2</td>\n",
       "      <td>1200</td>\n",
       "      <td>2.0</td>\n",
       "      <td>1.0</td>\n",
       "      <td>51.00</td>\n",
       "    </tr>\n",
       "  </tbody>\n",
       "</table>\n",
       "</div>"
      ],
      "text/plain": [
       "                   location size total_sqft  bath  balcony   price\n",
       "0  Electronic City Phase II    2       1056   2.0      1.0   39.07\n",
       "1          Chikka Tirupathi    4       2600   5.0      3.0  120.00\n",
       "2               Uttarahalli    3       1440   2.0      3.0   62.00\n",
       "3        Lingadheeranahalli    3       1521   3.0      1.0   95.00\n",
       "4                  Kothanur    2       1200   2.0      1.0   51.00"
      ]
     },
     "execution_count": 381,
     "metadata": {},
     "output_type": "execute_result"
    }
   ],
   "source": [
    "df1.head()"
   ]
  },
  {
   "cell_type": "code",
   "execution_count": 382,
   "id": "4d340359-8846-445d-8bee-6dbe54a549a8",
   "metadata": {},
   "outputs": [
    {
     "data": {
      "text/plain": [
       "array(['1056', '2600', '1440', ..., '1133 - 1384', '774', '4689'],\n",
       "      dtype=object)"
      ]
     },
     "execution_count": 382,
     "metadata": {},
     "output_type": "execute_result"
    }
   ],
   "source": [
    "#Remove range values from total sqft\n",
    "df1.total_sqft.unique()"
   ]
  },
  {
   "cell_type": "code",
   "execution_count": 383,
   "id": "ae62ef4d-32a4-4ae0-bd2c-119257c6b626",
   "metadata": {},
   "outputs": [],
   "source": [
    "def isfloat(x):\n",
    "    try:\n",
    "        float(x)\n",
    "    except:\n",
    "        return False\n",
    "    return True"
   ]
  },
  {
   "cell_type": "code",
   "execution_count": 584,
   "id": "03513f01-4e79-49cb-858e-0897d4456903",
   "metadata": {},
   "outputs": [
    {
     "data": {
      "text/html": [
       "<div>\n",
       "<style scoped>\n",
       "    .dataframe tbody tr th:only-of-type {\n",
       "        vertical-align: middle;\n",
       "    }\n",
       "\n",
       "    .dataframe tbody tr th {\n",
       "        vertical-align: top;\n",
       "    }\n",
       "\n",
       "    .dataframe thead th {\n",
       "        text-align: right;\n",
       "    }\n",
       "</style>\n",
       "<table border=\"1\" class=\"dataframe\">\n",
       "  <thead>\n",
       "    <tr style=\"text-align: right;\">\n",
       "      <th></th>\n",
       "      <th>location</th>\n",
       "      <th>size</th>\n",
       "      <th>total_sqft</th>\n",
       "      <th>bath</th>\n",
       "      <th>balcony</th>\n",
       "      <th>price</th>\n",
       "      <th>price_per_sqft</th>\n",
       "    </tr>\n",
       "  </thead>\n",
       "  <tbody>\n",
       "    <tr>\n",
       "      <th>663</th>\n",
       "      <td>Indira Nagar</td>\n",
       "      <td>4</td>\n",
       "      <td>2200.0</td>\n",
       "      <td>4.0</td>\n",
       "      <td>2.0</td>\n",
       "      <td>200.0</td>\n",
       "      <td>9090.909091</td>\n",
       "    </tr>\n",
       "    <tr>\n",
       "      <th>1002</th>\n",
       "      <td>Indira Nagar</td>\n",
       "      <td>2</td>\n",
       "      <td>1200.0</td>\n",
       "      <td>2.0</td>\n",
       "      <td>2.0</td>\n",
       "      <td>93.0</td>\n",
       "      <td>7750.000000</td>\n",
       "    </tr>\n",
       "    <tr>\n",
       "      <th>1128</th>\n",
       "      <td>Indira Nagar</td>\n",
       "      <td>2</td>\n",
       "      <td>1128.0</td>\n",
       "      <td>2.0</td>\n",
       "      <td>2.0</td>\n",
       "      <td>105.0</td>\n",
       "      <td>9308.510638</td>\n",
       "    </tr>\n",
       "    <tr>\n",
       "      <th>1774</th>\n",
       "      <td>Indira Nagar</td>\n",
       "      <td>3</td>\n",
       "      <td>2800.0</td>\n",
       "      <td>3.0</td>\n",
       "      <td>1.0</td>\n",
       "      <td>330.0</td>\n",
       "      <td>11785.714286</td>\n",
       "    </tr>\n",
       "    <tr>\n",
       "      <th>2066</th>\n",
       "      <td>Indira Nagar</td>\n",
       "      <td>3</td>\n",
       "      <td>1650.0</td>\n",
       "      <td>3.0</td>\n",
       "      <td>2.0</td>\n",
       "      <td>200.0</td>\n",
       "      <td>12121.212121</td>\n",
       "    </tr>\n",
       "    <tr>\n",
       "      <th>3249</th>\n",
       "      <td>Indira Nagar</td>\n",
       "      <td>3</td>\n",
       "      <td>1875.0</td>\n",
       "      <td>3.0</td>\n",
       "      <td>1.0</td>\n",
       "      <td>180.0</td>\n",
       "      <td>9600.000000</td>\n",
       "    </tr>\n",
       "    <tr>\n",
       "      <th>3260</th>\n",
       "      <td>Indira Nagar</td>\n",
       "      <td>2</td>\n",
       "      <td>1210.0</td>\n",
       "      <td>2.0</td>\n",
       "      <td>1.0</td>\n",
       "      <td>102.0</td>\n",
       "      <td>8429.752066</td>\n",
       "    </tr>\n",
       "    <tr>\n",
       "      <th>3308</th>\n",
       "      <td>Indira Nagar</td>\n",
       "      <td>2</td>\n",
       "      <td>1224.0</td>\n",
       "      <td>2.0</td>\n",
       "      <td>2.0</td>\n",
       "      <td>105.0</td>\n",
       "      <td>8578.431373</td>\n",
       "    </tr>\n",
       "    <tr>\n",
       "      <th>3440</th>\n",
       "      <td>Indira Nagar</td>\n",
       "      <td>6</td>\n",
       "      <td>2480.0</td>\n",
       "      <td>4.0</td>\n",
       "      <td>1.0</td>\n",
       "      <td>750.0</td>\n",
       "      <td>30241.935484</td>\n",
       "    </tr>\n",
       "    <tr>\n",
       "      <th>3486</th>\n",
       "      <td>Indira Nagar</td>\n",
       "      <td>3</td>\n",
       "      <td>2070.0</td>\n",
       "      <td>3.0</td>\n",
       "      <td>2.0</td>\n",
       "      <td>225.0</td>\n",
       "      <td>10869.565217</td>\n",
       "    </tr>\n",
       "    <tr>\n",
       "      <th>3548</th>\n",
       "      <td>Indira Nagar</td>\n",
       "      <td>1</td>\n",
       "      <td>500.0</td>\n",
       "      <td>1.0</td>\n",
       "      <td>0.0</td>\n",
       "      <td>70.0</td>\n",
       "      <td>14000.000000</td>\n",
       "    </tr>\n",
       "    <tr>\n",
       "      <th>3918</th>\n",
       "      <td>Indira Nagar</td>\n",
       "      <td>2</td>\n",
       "      <td>1400.0</td>\n",
       "      <td>2.0</td>\n",
       "      <td>2.0</td>\n",
       "      <td>168.0</td>\n",
       "      <td>12000.000000</td>\n",
       "    </tr>\n",
       "    <tr>\n",
       "      <th>4058</th>\n",
       "      <td>Indira Nagar</td>\n",
       "      <td>4</td>\n",
       "      <td>2400.0</td>\n",
       "      <td>4.0</td>\n",
       "      <td>2.0</td>\n",
       "      <td>525.0</td>\n",
       "      <td>21875.000000</td>\n",
       "    </tr>\n",
       "    <tr>\n",
       "      <th>4074</th>\n",
       "      <td>Indira Nagar</td>\n",
       "      <td>3</td>\n",
       "      <td>1407.0</td>\n",
       "      <td>3.0</td>\n",
       "      <td>1.0</td>\n",
       "      <td>120.0</td>\n",
       "      <td>8528.784648</td>\n",
       "    </tr>\n",
       "    <tr>\n",
       "      <th>4795</th>\n",
       "      <td>Indira Nagar</td>\n",
       "      <td>2</td>\n",
       "      <td>1145.0</td>\n",
       "      <td>2.0</td>\n",
       "      <td>2.0</td>\n",
       "      <td>100.0</td>\n",
       "      <td>8733.624454</td>\n",
       "    </tr>\n",
       "    <tr>\n",
       "      <th>5022</th>\n",
       "      <td>Indira Nagar</td>\n",
       "      <td>2</td>\n",
       "      <td>1470.0</td>\n",
       "      <td>2.0</td>\n",
       "      <td>2.0</td>\n",
       "      <td>170.0</td>\n",
       "      <td>11564.625850</td>\n",
       "    </tr>\n",
       "    <tr>\n",
       "      <th>5449</th>\n",
       "      <td>Indira Nagar</td>\n",
       "      <td>5</td>\n",
       "      <td>1000.0</td>\n",
       "      <td>5.0</td>\n",
       "      <td>2.0</td>\n",
       "      <td>180.0</td>\n",
       "      <td>18000.000000</td>\n",
       "    </tr>\n",
       "    <tr>\n",
       "      <th>5530</th>\n",
       "      <td>Indira Nagar</td>\n",
       "      <td>3</td>\n",
       "      <td>2700.0</td>\n",
       "      <td>3.0</td>\n",
       "      <td>2.0</td>\n",
       "      <td>324.0</td>\n",
       "      <td>12000.000000</td>\n",
       "    </tr>\n",
       "    <tr>\n",
       "      <th>5573</th>\n",
       "      <td>Indira Nagar</td>\n",
       "      <td>1</td>\n",
       "      <td>850.0</td>\n",
       "      <td>1.0</td>\n",
       "      <td>2.0</td>\n",
       "      <td>57.0</td>\n",
       "      <td>6705.882353</td>\n",
       "    </tr>\n",
       "    <tr>\n",
       "      <th>5578</th>\n",
       "      <td>Indira Nagar</td>\n",
       "      <td>8</td>\n",
       "      <td>3250.0</td>\n",
       "      <td>8.0</td>\n",
       "      <td>1.0</td>\n",
       "      <td>600.0</td>\n",
       "      <td>18461.538462</td>\n",
       "    </tr>\n",
       "    <tr>\n",
       "      <th>5834</th>\n",
       "      <td>Indira Nagar</td>\n",
       "      <td>3</td>\n",
       "      <td>2601.0</td>\n",
       "      <td>4.0</td>\n",
       "      <td>2.0</td>\n",
       "      <td>312.0</td>\n",
       "      <td>11995.386390</td>\n",
       "    </tr>\n",
       "    <tr>\n",
       "      <th>6468</th>\n",
       "      <td>Indira Nagar</td>\n",
       "      <td>2</td>\n",
       "      <td>1260.0</td>\n",
       "      <td>2.0</td>\n",
       "      <td>2.0</td>\n",
       "      <td>100.0</td>\n",
       "      <td>7936.507937</td>\n",
       "    </tr>\n",
       "    <tr>\n",
       "      <th>7020</th>\n",
       "      <td>Indira Nagar</td>\n",
       "      <td>3</td>\n",
       "      <td>1740.0</td>\n",
       "      <td>3.0</td>\n",
       "      <td>2.0</td>\n",
       "      <td>191.0</td>\n",
       "      <td>10977.011494</td>\n",
       "    </tr>\n",
       "    <tr>\n",
       "      <th>7444</th>\n",
       "      <td>Indira Nagar</td>\n",
       "      <td>3</td>\n",
       "      <td>1650.0</td>\n",
       "      <td>3.0</td>\n",
       "      <td>3.0</td>\n",
       "      <td>220.0</td>\n",
       "      <td>13333.333333</td>\n",
       "    </tr>\n",
       "    <tr>\n",
       "      <th>7492</th>\n",
       "      <td>Indira Nagar</td>\n",
       "      <td>3</td>\n",
       "      <td>1700.0</td>\n",
       "      <td>3.0</td>\n",
       "      <td>2.0</td>\n",
       "      <td>150.0</td>\n",
       "      <td>8823.529412</td>\n",
       "    </tr>\n",
       "    <tr>\n",
       "      <th>7598</th>\n",
       "      <td>Indira Nagar</td>\n",
       "      <td>4</td>\n",
       "      <td>3200.0</td>\n",
       "      <td>3.0</td>\n",
       "      <td>2.0</td>\n",
       "      <td>250.0</td>\n",
       "      <td>7812.500000</td>\n",
       "    </tr>\n",
       "    <tr>\n",
       "      <th>7719</th>\n",
       "      <td>Indira Nagar</td>\n",
       "      <td>3</td>\n",
       "      <td>1440.0</td>\n",
       "      <td>3.0</td>\n",
       "      <td>1.0</td>\n",
       "      <td>275.0</td>\n",
       "      <td>19097.222222</td>\n",
       "    </tr>\n",
       "    <tr>\n",
       "      <th>7722</th>\n",
       "      <td>Indira Nagar</td>\n",
       "      <td>2</td>\n",
       "      <td>1475.0</td>\n",
       "      <td>2.0</td>\n",
       "      <td>2.0</td>\n",
       "      <td>171.0</td>\n",
       "      <td>11593.220339</td>\n",
       "    </tr>\n",
       "    <tr>\n",
       "      <th>7865</th>\n",
       "      <td>Indira Nagar</td>\n",
       "      <td>4</td>\n",
       "      <td>3200.0</td>\n",
       "      <td>4.0</td>\n",
       "      <td>2.0</td>\n",
       "      <td>440.0</td>\n",
       "      <td>13750.000000</td>\n",
       "    </tr>\n",
       "    <tr>\n",
       "      <th>7895</th>\n",
       "      <td>Indira Nagar</td>\n",
       "      <td>4</td>\n",
       "      <td>4000.0</td>\n",
       "      <td>4.0</td>\n",
       "      <td>1.0</td>\n",
       "      <td>700.0</td>\n",
       "      <td>17500.000000</td>\n",
       "    </tr>\n",
       "    <tr>\n",
       "      <th>8111</th>\n",
       "      <td>Indira Nagar</td>\n",
       "      <td>1</td>\n",
       "      <td>850.0</td>\n",
       "      <td>1.0</td>\n",
       "      <td>2.0</td>\n",
       "      <td>60.0</td>\n",
       "      <td>7058.823529</td>\n",
       "    </tr>\n",
       "    <tr>\n",
       "      <th>8409</th>\n",
       "      <td>Indira Nagar</td>\n",
       "      <td>4</td>\n",
       "      <td>2400.0</td>\n",
       "      <td>4.0</td>\n",
       "      <td>2.0</td>\n",
       "      <td>405.0</td>\n",
       "      <td>16875.000000</td>\n",
       "    </tr>\n",
       "    <tr>\n",
       "      <th>8684</th>\n",
       "      <td>Indira Nagar</td>\n",
       "      <td>5</td>\n",
       "      <td>1800.0</td>\n",
       "      <td>5.0</td>\n",
       "      <td>2.0</td>\n",
       "      <td>350.0</td>\n",
       "      <td>19444.444444</td>\n",
       "    </tr>\n",
       "    <tr>\n",
       "      <th>8704</th>\n",
       "      <td>Indira Nagar</td>\n",
       "      <td>3</td>\n",
       "      <td>1500.0</td>\n",
       "      <td>3.0</td>\n",
       "      <td>3.0</td>\n",
       "      <td>120.0</td>\n",
       "      <td>8000.000000</td>\n",
       "    </tr>\n",
       "    <tr>\n",
       "      <th>8955</th>\n",
       "      <td>Indira Nagar</td>\n",
       "      <td>3</td>\n",
       "      <td>2200.0</td>\n",
       "      <td>3.0</td>\n",
       "      <td>2.0</td>\n",
       "      <td>160.0</td>\n",
       "      <td>7272.727273</td>\n",
       "    </tr>\n",
       "    <tr>\n",
       "      <th>9063</th>\n",
       "      <td>Indira Nagar</td>\n",
       "      <td>3</td>\n",
       "      <td>1650.0</td>\n",
       "      <td>3.0</td>\n",
       "      <td>2.0</td>\n",
       "      <td>200.0</td>\n",
       "      <td>12121.212121</td>\n",
       "    </tr>\n",
       "    <tr>\n",
       "      <th>9535</th>\n",
       "      <td>Indira Nagar</td>\n",
       "      <td>4</td>\n",
       "      <td>2400.0</td>\n",
       "      <td>5.0</td>\n",
       "      <td>2.0</td>\n",
       "      <td>1250.0</td>\n",
       "      <td>52083.333333</td>\n",
       "    </tr>\n",
       "    <tr>\n",
       "      <th>9817</th>\n",
       "      <td>Indira Nagar</td>\n",
       "      <td>4</td>\n",
       "      <td>2800.0</td>\n",
       "      <td>4.0</td>\n",
       "      <td>3.0</td>\n",
       "      <td>365.0</td>\n",
       "      <td>13035.714286</td>\n",
       "    </tr>\n",
       "    <tr>\n",
       "      <th>9954</th>\n",
       "      <td>Indira Nagar</td>\n",
       "      <td>5</td>\n",
       "      <td>2400.0</td>\n",
       "      <td>5.0</td>\n",
       "      <td>2.0</td>\n",
       "      <td>700.0</td>\n",
       "      <td>29166.666667</td>\n",
       "    </tr>\n",
       "    <tr>\n",
       "      <th>10438</th>\n",
       "      <td>Indira Nagar</td>\n",
       "      <td>2</td>\n",
       "      <td>1260.0</td>\n",
       "      <td>2.0</td>\n",
       "      <td>3.0</td>\n",
       "      <td>120.0</td>\n",
       "      <td>9523.809524</td>\n",
       "    </tr>\n",
       "    <tr>\n",
       "      <th>11058</th>\n",
       "      <td>Indira Nagar</td>\n",
       "      <td>2</td>\n",
       "      <td>1149.0</td>\n",
       "      <td>2.0</td>\n",
       "      <td>1.0</td>\n",
       "      <td>130.0</td>\n",
       "      <td>11314.186249</td>\n",
       "    </tr>\n",
       "    <tr>\n",
       "      <th>11954</th>\n",
       "      <td>Indira Nagar</td>\n",
       "      <td>3</td>\n",
       "      <td>1650.0</td>\n",
       "      <td>3.0</td>\n",
       "      <td>1.0</td>\n",
       "      <td>150.0</td>\n",
       "      <td>9090.909091</td>\n",
       "    </tr>\n",
       "    <tr>\n",
       "      <th>12449</th>\n",
       "      <td>Indira Nagar</td>\n",
       "      <td>4</td>\n",
       "      <td>2400.0</td>\n",
       "      <td>4.0</td>\n",
       "      <td>1.0</td>\n",
       "      <td>700.0</td>\n",
       "      <td>29166.666667</td>\n",
       "    </tr>\n",
       "    <tr>\n",
       "      <th>12867</th>\n",
       "      <td>Indira Nagar</td>\n",
       "      <td>6</td>\n",
       "      <td>2400.0</td>\n",
       "      <td>6.0</td>\n",
       "      <td>2.0</td>\n",
       "      <td>475.0</td>\n",
       "      <td>19791.666667</td>\n",
       "    </tr>\n",
       "  </tbody>\n",
       "</table>\n",
       "</div>"
      ],
      "text/plain": [
       "           location  size  total_sqft  bath  balcony   price  price_per_sqft\n",
       "663    Indira Nagar     4      2200.0   4.0      2.0   200.0     9090.909091\n",
       "1002   Indira Nagar     2      1200.0   2.0      2.0    93.0     7750.000000\n",
       "1128   Indira Nagar     2      1128.0   2.0      2.0   105.0     9308.510638\n",
       "1774   Indira Nagar     3      2800.0   3.0      1.0   330.0    11785.714286\n",
       "2066   Indira Nagar     3      1650.0   3.0      2.0   200.0    12121.212121\n",
       "3249   Indira Nagar     3      1875.0   3.0      1.0   180.0     9600.000000\n",
       "3260   Indira Nagar     2      1210.0   2.0      1.0   102.0     8429.752066\n",
       "3308   Indira Nagar     2      1224.0   2.0      2.0   105.0     8578.431373\n",
       "3440   Indira Nagar     6      2480.0   4.0      1.0   750.0    30241.935484\n",
       "3486   Indira Nagar     3      2070.0   3.0      2.0   225.0    10869.565217\n",
       "3548   Indira Nagar     1       500.0   1.0      0.0    70.0    14000.000000\n",
       "3918   Indira Nagar     2      1400.0   2.0      2.0   168.0    12000.000000\n",
       "4058   Indira Nagar     4      2400.0   4.0      2.0   525.0    21875.000000\n",
       "4074   Indira Nagar     3      1407.0   3.0      1.0   120.0     8528.784648\n",
       "4795   Indira Nagar     2      1145.0   2.0      2.0   100.0     8733.624454\n",
       "5022   Indira Nagar     2      1470.0   2.0      2.0   170.0    11564.625850\n",
       "5449   Indira Nagar     5      1000.0   5.0      2.0   180.0    18000.000000\n",
       "5530   Indira Nagar     3      2700.0   3.0      2.0   324.0    12000.000000\n",
       "5573   Indira Nagar     1       850.0   1.0      2.0    57.0     6705.882353\n",
       "5578   Indira Nagar     8      3250.0   8.0      1.0   600.0    18461.538462\n",
       "5834   Indira Nagar     3      2601.0   4.0      2.0   312.0    11995.386390\n",
       "6468   Indira Nagar     2      1260.0   2.0      2.0   100.0     7936.507937\n",
       "7020   Indira Nagar     3      1740.0   3.0      2.0   191.0    10977.011494\n",
       "7444   Indira Nagar     3      1650.0   3.0      3.0   220.0    13333.333333\n",
       "7492   Indira Nagar     3      1700.0   3.0      2.0   150.0     8823.529412\n",
       "7598   Indira Nagar     4      3200.0   3.0      2.0   250.0     7812.500000\n",
       "7719   Indira Nagar     3      1440.0   3.0      1.0   275.0    19097.222222\n",
       "7722   Indira Nagar     2      1475.0   2.0      2.0   171.0    11593.220339\n",
       "7865   Indira Nagar     4      3200.0   4.0      2.0   440.0    13750.000000\n",
       "7895   Indira Nagar     4      4000.0   4.0      1.0   700.0    17500.000000\n",
       "8111   Indira Nagar     1       850.0   1.0      2.0    60.0     7058.823529\n",
       "8409   Indira Nagar     4      2400.0   4.0      2.0   405.0    16875.000000\n",
       "8684   Indira Nagar     5      1800.0   5.0      2.0   350.0    19444.444444\n",
       "8704   Indira Nagar     3      1500.0   3.0      3.0   120.0     8000.000000\n",
       "8955   Indira Nagar     3      2200.0   3.0      2.0   160.0     7272.727273\n",
       "9063   Indira Nagar     3      1650.0   3.0      2.0   200.0    12121.212121\n",
       "9535   Indira Nagar     4      2400.0   5.0      2.0  1250.0    52083.333333\n",
       "9817   Indira Nagar     4      2800.0   4.0      3.0   365.0    13035.714286\n",
       "9954   Indira Nagar     5      2400.0   5.0      2.0   700.0    29166.666667\n",
       "10438  Indira Nagar     2      1260.0   2.0      3.0   120.0     9523.809524\n",
       "11058  Indira Nagar     2      1149.0   2.0      1.0   130.0    11314.186249\n",
       "11954  Indira Nagar     3      1650.0   3.0      1.0   150.0     9090.909091\n",
       "12449  Indira Nagar     4      2400.0   4.0      1.0   700.0    29166.666667\n",
       "12867  Indira Nagar     6      2400.0   6.0      2.0   475.0    19791.666667"
      ]
     },
     "execution_count": 584,
     "metadata": {},
     "output_type": "execute_result"
    }
   ],
   "source": [
    "df1[df1['location']=='Indira Nagar']"
   ]
  },
  {
   "cell_type": "code",
   "execution_count": 384,
   "id": "b229180d-5a47-4e06-8b80-ac2c401aa3d1",
   "metadata": {},
   "outputs": [
    {
     "data": {
      "text/html": [
       "<div>\n",
       "<style scoped>\n",
       "    .dataframe tbody tr th:only-of-type {\n",
       "        vertical-align: middle;\n",
       "    }\n",
       "\n",
       "    .dataframe tbody tr th {\n",
       "        vertical-align: top;\n",
       "    }\n",
       "\n",
       "    .dataframe thead th {\n",
       "        text-align: right;\n",
       "    }\n",
       "</style>\n",
       "<table border=\"1\" class=\"dataframe\">\n",
       "  <thead>\n",
       "    <tr style=\"text-align: right;\">\n",
       "      <th></th>\n",
       "      <th>location</th>\n",
       "      <th>size</th>\n",
       "      <th>total_sqft</th>\n",
       "      <th>bath</th>\n",
       "      <th>balcony</th>\n",
       "      <th>price</th>\n",
       "    </tr>\n",
       "  </thead>\n",
       "  <tbody>\n",
       "    <tr>\n",
       "      <th>30</th>\n",
       "      <td>Yelahanka</td>\n",
       "      <td>4</td>\n",
       "      <td>2100 - 2850</td>\n",
       "      <td>4.0</td>\n",
       "      <td>0.0</td>\n",
       "      <td>186.000</td>\n",
       "    </tr>\n",
       "    <tr>\n",
       "      <th>56</th>\n",
       "      <td>Devanahalli</td>\n",
       "      <td>4</td>\n",
       "      <td>3010 - 3410</td>\n",
       "      <td>2.0</td>\n",
       "      <td>2.0</td>\n",
       "      <td>192.000</td>\n",
       "    </tr>\n",
       "    <tr>\n",
       "      <th>81</th>\n",
       "      <td>Hennur Road</td>\n",
       "      <td>4</td>\n",
       "      <td>2957 - 3450</td>\n",
       "      <td>2.0</td>\n",
       "      <td>2.0</td>\n",
       "      <td>224.500</td>\n",
       "    </tr>\n",
       "    <tr>\n",
       "      <th>122</th>\n",
       "      <td>Hebbal</td>\n",
       "      <td>4</td>\n",
       "      <td>3067 - 8156</td>\n",
       "      <td>4.0</td>\n",
       "      <td>0.0</td>\n",
       "      <td>477.000</td>\n",
       "    </tr>\n",
       "    <tr>\n",
       "      <th>137</th>\n",
       "      <td>8th Phase JP Nagar</td>\n",
       "      <td>2</td>\n",
       "      <td>1042 - 1105</td>\n",
       "      <td>2.0</td>\n",
       "      <td>0.0</td>\n",
       "      <td>54.005</td>\n",
       "    </tr>\n",
       "    <tr>\n",
       "      <th>...</th>\n",
       "      <td>...</td>\n",
       "      <td>...</td>\n",
       "      <td>...</td>\n",
       "      <td>...</td>\n",
       "      <td>...</td>\n",
       "      <td>...</td>\n",
       "    </tr>\n",
       "    <tr>\n",
       "      <th>12990</th>\n",
       "      <td>Talaghattapura</td>\n",
       "      <td>3</td>\n",
       "      <td>1804 - 2273</td>\n",
       "      <td>3.0</td>\n",
       "      <td>0.0</td>\n",
       "      <td>122.000</td>\n",
       "    </tr>\n",
       "    <tr>\n",
       "      <th>13059</th>\n",
       "      <td>Harlur</td>\n",
       "      <td>2</td>\n",
       "      <td>1200 - 1470</td>\n",
       "      <td>2.0</td>\n",
       "      <td>0.0</td>\n",
       "      <td>72.760</td>\n",
       "    </tr>\n",
       "    <tr>\n",
       "      <th>13240</th>\n",
       "      <td>Devanahalli</td>\n",
       "      <td>1</td>\n",
       "      <td>1020 - 1130</td>\n",
       "      <td>2.0</td>\n",
       "      <td>2.0</td>\n",
       "      <td>52.570</td>\n",
       "    </tr>\n",
       "    <tr>\n",
       "      <th>13265</th>\n",
       "      <td>Hoodi</td>\n",
       "      <td>2</td>\n",
       "      <td>1133 - 1384</td>\n",
       "      <td>2.0</td>\n",
       "      <td>0.0</td>\n",
       "      <td>59.135</td>\n",
       "    </tr>\n",
       "    <tr>\n",
       "      <th>13299</th>\n",
       "      <td>Whitefield</td>\n",
       "      <td>4</td>\n",
       "      <td>2830 - 2882</td>\n",
       "      <td>5.0</td>\n",
       "      <td>0.0</td>\n",
       "      <td>154.500</td>\n",
       "    </tr>\n",
       "  </tbody>\n",
       "</table>\n",
       "<p>239 rows × 6 columns</p>\n",
       "</div>"
      ],
      "text/plain": [
       "                 location size   total_sqft  bath  balcony    price\n",
       "30              Yelahanka    4  2100 - 2850   4.0      0.0  186.000\n",
       "56            Devanahalli    4  3010 - 3410   2.0      2.0  192.000\n",
       "81            Hennur Road    4  2957 - 3450   2.0      2.0  224.500\n",
       "122                Hebbal    4  3067 - 8156   4.0      0.0  477.000\n",
       "137    8th Phase JP Nagar    2  1042 - 1105   2.0      0.0   54.005\n",
       "...                   ...  ...          ...   ...      ...      ...\n",
       "12990      Talaghattapura    3  1804 - 2273   3.0      0.0  122.000\n",
       "13059              Harlur    2  1200 - 1470   2.0      0.0   72.760\n",
       "13240         Devanahalli    1  1020 - 1130   2.0      2.0   52.570\n",
       "13265               Hoodi    2  1133 - 1384   2.0      0.0   59.135\n",
       "13299          Whitefield    4  2830 - 2882   5.0      0.0  154.500\n",
       "\n",
       "[239 rows x 6 columns]"
      ]
     },
     "execution_count": 384,
     "metadata": {},
     "output_type": "execute_result"
    }
   ],
   "source": [
    "df1[~df1['total_sqft'].apply(isfloat)]"
   ]
  },
  {
   "cell_type": "code",
   "execution_count": 385,
   "id": "da87c8dc-3941-4f28-9442-79541c6ce388",
   "metadata": {},
   "outputs": [],
   "source": [
    "def convert_sqft_to_num(x):\n",
    "    tokens=x.split('-')\n",
    "    if len(tokens)==2:\n",
    "        return (float(tokens[0])+float(tokens[1]))/2\n",
    "    try:\n",
    "        return float(x)\n",
    "    except:\n",
    "        return None"
   ]
  },
  {
   "cell_type": "code",
   "execution_count": 386,
   "id": "291a3323-3154-4baf-b462-1f5ca07d9b4c",
   "metadata": {},
   "outputs": [
    {
     "name": "stderr",
     "output_type": "stream",
     "text": [
      "C:\\Users\\saras\\AppData\\Local\\Temp\\ipykernel_2972\\531152323.py:2: SettingWithCopyWarning: \n",
      "A value is trying to be set on a copy of a slice from a DataFrame.\n",
      "Try using .loc[row_indexer,col_indexer] = value instead\n",
      "\n",
      "See the caveats in the documentation: https://pandas.pydata.org/pandas-docs/stable/user_guide/indexing.html#returning-a-view-versus-a-copy\n",
      "  df1['total_sqft']=df1['total_sqft'].apply(convert_sqft_to_num)\n"
     ]
    }
   ],
   "source": [
    "#df2=df1.copy()\n",
    "df1['total_sqft']=df1['total_sqft'].apply(convert_sqft_to_num)"
   ]
  },
  {
   "cell_type": "code",
   "execution_count": 387,
   "id": "3aec98d9-d709-4cd6-a464-f02e3caceb2a",
   "metadata": {},
   "outputs": [
    {
     "data": {
      "text/plain": [
       "array([1056. , 2600. , 1440. , ..., 1258.5,  774. , 4689. ])"
      ]
     },
     "execution_count": 387,
     "metadata": {},
     "output_type": "execute_result"
    }
   ],
   "source": [
    "df1['total_sqft'].unique()"
   ]
  },
  {
   "cell_type": "code",
   "execution_count": 388,
   "id": "4571f349-dda1-4c39-beda-e86dcdb1b83f",
   "metadata": {},
   "outputs": [
    {
     "data": {
      "text/plain": [
       "location      Yelahanka\n",
       "size                  4\n",
       "total_sqft       2475.0\n",
       "bath                4.0\n",
       "balcony             0.0\n",
       "price             186.0\n",
       "Name: 30, dtype: object"
      ]
     },
     "execution_count": 388,
     "metadata": {},
     "output_type": "execute_result"
    }
   ],
   "source": [
    "df1.loc[30]"
   ]
  },
  {
   "cell_type": "code",
   "execution_count": 389,
   "id": "591c59e0-6807-4ef6-8899-65f0f0b1a1b3",
   "metadata": {},
   "outputs": [
    {
     "name": "stderr",
     "output_type": "stream",
     "text": [
      "C:\\Users\\saras\\AppData\\Local\\Temp\\ipykernel_2972\\754292222.py:1: SettingWithCopyWarning: \n",
      "A value is trying to be set on a copy of a slice from a DataFrame.\n",
      "Try using .loc[row_indexer,col_indexer] = value instead\n",
      "\n",
      "See the caveats in the documentation: https://pandas.pydata.org/pandas-docs/stable/user_guide/indexing.html#returning-a-view-versus-a-copy\n",
      "  df1['price_per_sqft']=(df1['price']*100000)/df1['total_sqft']\n"
     ]
    }
   ],
   "source": [
    " df1['price_per_sqft']=(df1['price']*100000)/df1['total_sqft']"
   ]
  },
  {
   "cell_type": "code",
   "execution_count": 390,
   "id": "5476ec23-046f-422f-a163-7cb6d191ed94",
   "metadata": {},
   "outputs": [
    {
     "data": {
      "text/html": [
       "<div>\n",
       "<style scoped>\n",
       "    .dataframe tbody tr th:only-of-type {\n",
       "        vertical-align: middle;\n",
       "    }\n",
       "\n",
       "    .dataframe tbody tr th {\n",
       "        vertical-align: top;\n",
       "    }\n",
       "\n",
       "    .dataframe thead th {\n",
       "        text-align: right;\n",
       "    }\n",
       "</style>\n",
       "<table border=\"1\" class=\"dataframe\">\n",
       "  <thead>\n",
       "    <tr style=\"text-align: right;\">\n",
       "      <th></th>\n",
       "      <th>location</th>\n",
       "      <th>size</th>\n",
       "      <th>total_sqft</th>\n",
       "      <th>bath</th>\n",
       "      <th>balcony</th>\n",
       "      <th>price</th>\n",
       "      <th>price_per_sqft</th>\n",
       "    </tr>\n",
       "  </thead>\n",
       "  <tbody>\n",
       "    <tr>\n",
       "      <th>0</th>\n",
       "      <td>Electronic City Phase II</td>\n",
       "      <td>2</td>\n",
       "      <td>1056.0</td>\n",
       "      <td>2.0</td>\n",
       "      <td>1.0</td>\n",
       "      <td>39.07</td>\n",
       "      <td>3699.810606</td>\n",
       "    </tr>\n",
       "    <tr>\n",
       "      <th>1</th>\n",
       "      <td>Chikka Tirupathi</td>\n",
       "      <td>4</td>\n",
       "      <td>2600.0</td>\n",
       "      <td>5.0</td>\n",
       "      <td>3.0</td>\n",
       "      <td>120.00</td>\n",
       "      <td>4615.384615</td>\n",
       "    </tr>\n",
       "    <tr>\n",
       "      <th>2</th>\n",
       "      <td>Uttarahalli</td>\n",
       "      <td>3</td>\n",
       "      <td>1440.0</td>\n",
       "      <td>2.0</td>\n",
       "      <td>3.0</td>\n",
       "      <td>62.00</td>\n",
       "      <td>4305.555556</td>\n",
       "    </tr>\n",
       "    <tr>\n",
       "      <th>3</th>\n",
       "      <td>Lingadheeranahalli</td>\n",
       "      <td>3</td>\n",
       "      <td>1521.0</td>\n",
       "      <td>3.0</td>\n",
       "      <td>1.0</td>\n",
       "      <td>95.00</td>\n",
       "      <td>6245.890861</td>\n",
       "    </tr>\n",
       "    <tr>\n",
       "      <th>4</th>\n",
       "      <td>Kothanur</td>\n",
       "      <td>2</td>\n",
       "      <td>1200.0</td>\n",
       "      <td>2.0</td>\n",
       "      <td>1.0</td>\n",
       "      <td>51.00</td>\n",
       "      <td>4250.000000</td>\n",
       "    </tr>\n",
       "  </tbody>\n",
       "</table>\n",
       "</div>"
      ],
      "text/plain": [
       "                   location size  total_sqft  bath  balcony   price  \\\n",
       "0  Electronic City Phase II    2      1056.0   2.0      1.0   39.07   \n",
       "1          Chikka Tirupathi    4      2600.0   5.0      3.0  120.00   \n",
       "2               Uttarahalli    3      1440.0   2.0      3.0   62.00   \n",
       "3        Lingadheeranahalli    3      1521.0   3.0      1.0   95.00   \n",
       "4                  Kothanur    2      1200.0   2.0      1.0   51.00   \n",
       "\n",
       "   price_per_sqft  \n",
       "0     3699.810606  \n",
       "1     4615.384615  \n",
       "2     4305.555556  \n",
       "3     6245.890861  \n",
       "4     4250.000000  "
      ]
     },
     "execution_count": 390,
     "metadata": {},
     "output_type": "execute_result"
    }
   ],
   "source": [
    "df1.head()"
   ]
  },
  {
   "cell_type": "markdown",
   "id": "650fc165-a002-45c6-8491-341a5d380067",
   "metadata": {},
   "source": [
    "#### Dimensionality Reduction"
   ]
  },
  {
   "cell_type": "code",
   "execution_count": 391,
   "id": "d7a550bd-8378-4e53-804c-a583dc082cef",
   "metadata": {},
   "outputs": [
    {
     "data": {
      "text/plain": [
       "1304"
      ]
     },
     "execution_count": 391,
     "metadata": {},
     "output_type": "execute_result"
    }
   ],
   "source": [
    "# Use 'other' category for location\n",
    "len(df1.location.unique())"
   ]
  },
  {
   "cell_type": "code",
   "execution_count": 392,
   "id": "5a6b5f6d-00f7-4627-9063-e534480a10fd",
   "metadata": {},
   "outputs": [],
   "source": [
    "location_stats= df1.location.value_counts()"
   ]
  },
  {
   "cell_type": "code",
   "execution_count": 393,
   "id": "68d79a3e-86f9-4cbe-b82b-6efb7503f34e",
   "metadata": {},
   "outputs": [
    {
     "data": {
      "text/plain": [
       "1063"
      ]
     },
     "execution_count": 393,
     "metadata": {},
     "output_type": "execute_result"
    }
   ],
   "source": [
    "len(location_stats[location_stats<=10])"
   ]
  },
  {
   "cell_type": "code",
   "execution_count": 394,
   "id": "0e0c1df0-4376-4c29-b1c9-6c0f75439658",
   "metadata": {},
   "outputs": [],
   "source": [
    "loc_lessthan10 = location_stats[location_stats<=10]"
   ]
  },
  {
   "cell_type": "code",
   "execution_count": 395,
   "id": "4ae5872c-549a-4f41-ab44-55005387daf0",
   "metadata": {},
   "outputs": [
    {
     "name": "stderr",
     "output_type": "stream",
     "text": [
      "C:\\Users\\saras\\AppData\\Local\\Temp\\ipykernel_2972\\1941904373.py:1: SettingWithCopyWarning: \n",
      "A value is trying to be set on a copy of a slice from a DataFrame.\n",
      "Try using .loc[row_indexer,col_indexer] = value instead\n",
      "\n",
      "See the caveats in the documentation: https://pandas.pydata.org/pandas-docs/stable/user_guide/indexing.html#returning-a-view-versus-a-copy\n",
      "  df1['location']=df1.location.apply(lambda x: 'other' if x in loc_lessthan10 else x  )\n"
     ]
    }
   ],
   "source": [
    "df1['location']=df1.location.apply(lambda x: 'other' if x in loc_lessthan10 else x  )"
   ]
  },
  {
   "cell_type": "code",
   "execution_count": 396,
   "id": "64b0b409-4b3a-4402-8016-c525ef69db0d",
   "metadata": {},
   "outputs": [
    {
     "data": {
      "text/plain": [
       "other                 2897\n",
       "Whitefield             539\n",
       "Sarjapur  Road         397\n",
       "Electronic City        302\n",
       "Kanakpura Road         273\n",
       "                      ... \n",
       "Marsur                  11\n",
       "Banjara Layout          11\n",
       "LB Shastri Nagar        11\n",
       "Pattandur Agrahara      11\n",
       "Narayanapura            11\n",
       "Name: location, Length: 242, dtype: int64"
      ]
     },
     "execution_count": 396,
     "metadata": {},
     "output_type": "execute_result"
    }
   ],
   "source": [
    "df1.location.value_counts()"
   ]
  },
  {
   "cell_type": "code",
   "execution_count": 397,
   "id": "775f5bd1-0e30-4ab8-9afd-088aa2af7f96",
   "metadata": {},
   "outputs": [
    {
     "data": {
      "text/plain": [
       "242"
      ]
     },
     "execution_count": 397,
     "metadata": {},
     "output_type": "execute_result"
    }
   ],
   "source": [
    "len(df1.location.unique())"
   ]
  },
  {
   "cell_type": "code",
   "execution_count": 398,
   "id": "385e7061-317c-4199-b4be-bca7acacaa26",
   "metadata": {},
   "outputs": [
    {
     "data": {
      "text/html": [
       "<div>\n",
       "<style scoped>\n",
       "    .dataframe tbody tr th:only-of-type {\n",
       "        vertical-align: middle;\n",
       "    }\n",
       "\n",
       "    .dataframe tbody tr th {\n",
       "        vertical-align: top;\n",
       "    }\n",
       "\n",
       "    .dataframe thead th {\n",
       "        text-align: right;\n",
       "    }\n",
       "</style>\n",
       "<table border=\"1\" class=\"dataframe\">\n",
       "  <thead>\n",
       "    <tr style=\"text-align: right;\">\n",
       "      <th></th>\n",
       "      <th>location</th>\n",
       "      <th>size</th>\n",
       "      <th>total_sqft</th>\n",
       "      <th>bath</th>\n",
       "      <th>balcony</th>\n",
       "      <th>price</th>\n",
       "      <th>price_per_sqft</th>\n",
       "    </tr>\n",
       "  </thead>\n",
       "  <tbody>\n",
       "    <tr>\n",
       "      <th>0</th>\n",
       "      <td>Electronic City Phase II</td>\n",
       "      <td>2</td>\n",
       "      <td>1056.0</td>\n",
       "      <td>2.0</td>\n",
       "      <td>1.0</td>\n",
       "      <td>39.07</td>\n",
       "      <td>3699.810606</td>\n",
       "    </tr>\n",
       "    <tr>\n",
       "      <th>1</th>\n",
       "      <td>Chikka Tirupathi</td>\n",
       "      <td>4</td>\n",
       "      <td>2600.0</td>\n",
       "      <td>5.0</td>\n",
       "      <td>3.0</td>\n",
       "      <td>120.00</td>\n",
       "      <td>4615.384615</td>\n",
       "    </tr>\n",
       "    <tr>\n",
       "      <th>2</th>\n",
       "      <td>Uttarahalli</td>\n",
       "      <td>3</td>\n",
       "      <td>1440.0</td>\n",
       "      <td>2.0</td>\n",
       "      <td>3.0</td>\n",
       "      <td>62.00</td>\n",
       "      <td>4305.555556</td>\n",
       "    </tr>\n",
       "    <tr>\n",
       "      <th>3</th>\n",
       "      <td>Lingadheeranahalli</td>\n",
       "      <td>3</td>\n",
       "      <td>1521.0</td>\n",
       "      <td>3.0</td>\n",
       "      <td>1.0</td>\n",
       "      <td>95.00</td>\n",
       "      <td>6245.890861</td>\n",
       "    </tr>\n",
       "    <tr>\n",
       "      <th>4</th>\n",
       "      <td>Kothanur</td>\n",
       "      <td>2</td>\n",
       "      <td>1200.0</td>\n",
       "      <td>2.0</td>\n",
       "      <td>1.0</td>\n",
       "      <td>51.00</td>\n",
       "      <td>4250.000000</td>\n",
       "    </tr>\n",
       "  </tbody>\n",
       "</table>\n",
       "</div>"
      ],
      "text/plain": [
       "                   location size  total_sqft  bath  balcony   price  \\\n",
       "0  Electronic City Phase II    2      1056.0   2.0      1.0   39.07   \n",
       "1          Chikka Tirupathi    4      2600.0   5.0      3.0  120.00   \n",
       "2               Uttarahalli    3      1440.0   2.0      3.0   62.00   \n",
       "3        Lingadheeranahalli    3      1521.0   3.0      1.0   95.00   \n",
       "4                  Kothanur    2      1200.0   2.0      1.0   51.00   \n",
       "\n",
       "   price_per_sqft  \n",
       "0     3699.810606  \n",
       "1     4615.384615  \n",
       "2     4305.555556  \n",
       "3     6245.890861  \n",
       "4     4250.000000  "
      ]
     },
     "execution_count": 398,
     "metadata": {},
     "output_type": "execute_result"
    }
   ],
   "source": [
    "df1.head()"
   ]
  },
  {
   "cell_type": "code",
   "execution_count": 399,
   "id": "a3afe5d5-198c-4bed-b687-26f0a5081e21",
   "metadata": {},
   "outputs": [
    {
     "name": "stdout",
     "output_type": "stream",
     "text": [
      "<class 'pandas.core.frame.DataFrame'>\n",
      "Int64Index: 13303 entries, 0 to 13319\n",
      "Data columns (total 7 columns):\n",
      " #   Column          Non-Null Count  Dtype  \n",
      "---  ------          --------------  -----  \n",
      " 0   location        13303 non-null  object \n",
      " 1   size            13303 non-null  object \n",
      " 2   total_sqft      13257 non-null  float64\n",
      " 3   bath            13303 non-null  float64\n",
      " 4   balcony         13303 non-null  float64\n",
      " 5   price           13303 non-null  float64\n",
      " 6   price_per_sqft  13257 non-null  float64\n",
      "dtypes: float64(5), object(2)\n",
      "memory usage: 1.3+ MB\n"
     ]
    }
   ],
   "source": [
    "df1.info()"
   ]
  },
  {
   "cell_type": "code",
   "execution_count": 400,
   "id": "7d74bfe8-6d2a-4b47-a0cd-13569ff7ea7c",
   "metadata": {},
   "outputs": [
    {
     "name": "stderr",
     "output_type": "stream",
     "text": [
      "C:\\Users\\saras\\AppData\\Local\\Temp\\ipykernel_2972\\4234757648.py:1: SettingWithCopyWarning: \n",
      "A value is trying to be set on a copy of a slice from a DataFrame.\n",
      "Try using .loc[row_indexer,col_indexer] = value instead\n",
      "\n",
      "See the caveats in the documentation: https://pandas.pydata.org/pandas-docs/stable/user_guide/indexing.html#returning-a-view-versus-a-copy\n",
      "  df1['size']=df1['size'].astype(int)\n"
     ]
    }
   ],
   "source": [
    "df1['size']=df1['size'].astype(int)"
   ]
  },
  {
   "cell_type": "code",
   "execution_count": 401,
   "id": "2646cf4b-b210-436a-be08-2c1237e41ca4",
   "metadata": {},
   "outputs": [
    {
     "name": "stdout",
     "output_type": "stream",
     "text": [
      "<class 'pandas.core.frame.DataFrame'>\n",
      "Int64Index: 13303 entries, 0 to 13319\n",
      "Data columns (total 7 columns):\n",
      " #   Column          Non-Null Count  Dtype  \n",
      "---  ------          --------------  -----  \n",
      " 0   location        13303 non-null  object \n",
      " 1   size            13303 non-null  int32  \n",
      " 2   total_sqft      13257 non-null  float64\n",
      " 3   bath            13303 non-null  float64\n",
      " 4   balcony         13303 non-null  float64\n",
      " 5   price           13303 non-null  float64\n",
      " 6   price_per_sqft  13257 non-null  float64\n",
      "dtypes: float64(5), int32(1), object(1)\n",
      "memory usage: 1.3+ MB\n"
     ]
    }
   ],
   "source": [
    "df1.info()"
   ]
  },
  {
   "cell_type": "code",
   "execution_count": 402,
   "id": "48499e2d-18af-403c-9d75-8d7bee90cc84",
   "metadata": {},
   "outputs": [
    {
     "data": {
      "text/html": [
       "<div>\n",
       "<style scoped>\n",
       "    .dataframe tbody tr th:only-of-type {\n",
       "        vertical-align: middle;\n",
       "    }\n",
       "\n",
       "    .dataframe tbody tr th {\n",
       "        vertical-align: top;\n",
       "    }\n",
       "\n",
       "    .dataframe thead th {\n",
       "        text-align: right;\n",
       "    }\n",
       "</style>\n",
       "<table border=\"1\" class=\"dataframe\">\n",
       "  <thead>\n",
       "    <tr style=\"text-align: right;\">\n",
       "      <th></th>\n",
       "      <th>size</th>\n",
       "      <th>total_sqft</th>\n",
       "      <th>bath</th>\n",
       "      <th>balcony</th>\n",
       "      <th>price</th>\n",
       "      <th>price_per_sqft</th>\n",
       "    </tr>\n",
       "  </thead>\n",
       "  <tbody>\n",
       "    <tr>\n",
       "      <th>count</th>\n",
       "      <td>13303.000000</td>\n",
       "      <td>13257.000000</td>\n",
       "      <td>13303.000000</td>\n",
       "      <td>13303.000000</td>\n",
       "      <td>13303.000000</td>\n",
       "      <td>1.325700e+04</td>\n",
       "    </tr>\n",
       "    <tr>\n",
       "      <th>mean</th>\n",
       "      <td>2.803728</td>\n",
       "      <td>1558.809175</td>\n",
       "      <td>2.689619</td>\n",
       "      <td>1.602872</td>\n",
       "      <td>112.584033</td>\n",
       "      <td>7.912825e+03</td>\n",
       "    </tr>\n",
       "    <tr>\n",
       "      <th>std</th>\n",
       "      <td>1.295022</td>\n",
       "      <td>1238.478935</td>\n",
       "      <td>1.339393</td>\n",
       "      <td>0.803455</td>\n",
       "      <td>148.993820</td>\n",
       "      <td>1.064976e+05</td>\n",
       "    </tr>\n",
       "    <tr>\n",
       "      <th>min</th>\n",
       "      <td>1.000000</td>\n",
       "      <td>1.000000</td>\n",
       "      <td>1.000000</td>\n",
       "      <td>0.000000</td>\n",
       "      <td>8.000000</td>\n",
       "      <td>2.678298e+02</td>\n",
       "    </tr>\n",
       "    <tr>\n",
       "      <th>25%</th>\n",
       "      <td>2.000000</td>\n",
       "      <td>1100.000000</td>\n",
       "      <td>2.000000</td>\n",
       "      <td>1.000000</td>\n",
       "      <td>50.000000</td>\n",
       "      <td>4.271186e+03</td>\n",
       "    </tr>\n",
       "    <tr>\n",
       "      <th>50%</th>\n",
       "      <td>3.000000</td>\n",
       "      <td>1275.000000</td>\n",
       "      <td>2.000000</td>\n",
       "      <td>2.000000</td>\n",
       "      <td>72.000000</td>\n",
       "      <td>5.438596e+03</td>\n",
       "    </tr>\n",
       "    <tr>\n",
       "      <th>75%</th>\n",
       "      <td>3.000000</td>\n",
       "      <td>1680.000000</td>\n",
       "      <td>3.000000</td>\n",
       "      <td>2.000000</td>\n",
       "      <td>120.000000</td>\n",
       "      <td>7.313318e+03</td>\n",
       "    </tr>\n",
       "    <tr>\n",
       "      <th>max</th>\n",
       "      <td>43.000000</td>\n",
       "      <td>52272.000000</td>\n",
       "      <td>40.000000</td>\n",
       "      <td>3.000000</td>\n",
       "      <td>3600.000000</td>\n",
       "      <td>1.200000e+07</td>\n",
       "    </tr>\n",
       "  </tbody>\n",
       "</table>\n",
       "</div>"
      ],
      "text/plain": [
       "               size    total_sqft          bath       balcony         price  \\\n",
       "count  13303.000000  13257.000000  13303.000000  13303.000000  13303.000000   \n",
       "mean       2.803728   1558.809175      2.689619      1.602872    112.584033   \n",
       "std        1.295022   1238.478935      1.339393      0.803455    148.993820   \n",
       "min        1.000000      1.000000      1.000000      0.000000      8.000000   \n",
       "25%        2.000000   1100.000000      2.000000      1.000000     50.000000   \n",
       "50%        3.000000   1275.000000      2.000000      2.000000     72.000000   \n",
       "75%        3.000000   1680.000000      3.000000      2.000000    120.000000   \n",
       "max       43.000000  52272.000000     40.000000      3.000000   3600.000000   \n",
       "\n",
       "       price_per_sqft  \n",
       "count    1.325700e+04  \n",
       "mean     7.912825e+03  \n",
       "std      1.064976e+05  \n",
       "min      2.678298e+02  \n",
       "25%      4.271186e+03  \n",
       "50%      5.438596e+03  \n",
       "75%      7.313318e+03  \n",
       "max      1.200000e+07  "
      ]
     },
     "execution_count": 402,
     "metadata": {},
     "output_type": "execute_result"
    }
   ],
   "source": [
    "df1.describe()"
   ]
  },
  {
   "cell_type": "markdown",
   "id": "186f89b0-78c1-48a0-8ab7-cb764326d994",
   "metadata": {},
   "source": [
    "#### Outlier detection"
   ]
  },
  {
   "cell_type": "code",
   "execution_count": 446,
   "id": "1fe63a93-c127-4e32-bc28-e45f0c269897",
   "metadata": {},
   "outputs": [],
   "source": [
    "df2=df1[~(df1.total_sqft/df1['size']<300)]"
   ]
  },
  {
   "cell_type": "code",
   "execution_count": 451,
   "id": "f40f73ab-c0c8-4397-9df5-6a9cbf1ca5fe",
   "metadata": {},
   "outputs": [],
   "source": [
    "price_per_sqft_zscore= (df2['price_per_sqft']-df2['price_per_sqft'].mean())/df2['price_per_sqft'].std()"
   ]
  },
  {
   "cell_type": "code",
   "execution_count": 452,
   "id": "0c1df0d3-f827-4ac5-b4aa-508b41b3dea0",
   "metadata": {},
   "outputs": [],
   "source": [
    "df3=df2[(price_per_sqft_zscore<1) & (price_per_sqft_zscore>-1)]"
   ]
  },
  {
   "cell_type": "code",
   "execution_count": 455,
   "id": "a33ae3bc-4987-4d16-b897-97522abc561b",
   "metadata": {},
   "outputs": [
    {
     "data": {
      "text/plain": [
       "(11344, 7)"
      ]
     },
     "execution_count": 455,
     "metadata": {},
     "output_type": "execute_result"
    }
   ],
   "source": [
    "df3.shape"
   ]
  },
  {
   "cell_type": "code",
   "execution_count": 408,
   "id": "e8909d25-eb1e-4c40-a88e-91234f75ef02",
   "metadata": {},
   "outputs": [
    {
     "data": {
      "image/png": "[encoded data removed]",
      "text/plain": [
       "<Figure size 1500x500 with 1 Axes>"
      ]
     },
     "metadata": {},
     "output_type": "display_data"
    }
   ],
   "source": [
    "#scatter plot to identify outliers based on location and bhk\n",
    "def plot_scatter_chart(df,location):\n",
    "    bhk2=df[(df.location==location)&(df['size']==2)]\n",
    "    bhk3=df[(df.location==location)&(df['size']==3)]\n",
    "    plt.rcParams['figure.figsize']=(15,5)\n",
    "    plt.scatter(bhk2.total_sqft,bhk2.price,color='blue',marker='*',label='2BHK',s=50)\n",
    "    plt.scatter(bhk3.total_sqft,bhk3.price,color='red',marker='*',label='3BHK',s=50)\n",
    "    plt.xlabel('total_sqft')\n",
    "    plt.ylabel('price')\n",
    "    plt.title(location)\n",
    "    plt.legend()\n",
    "plot_scatter_chart(df3,'Hebbal')"
   ]
  },
  {
   "cell_type": "code",
   "execution_count": 458,
   "id": "fcb71365-1024-4b4d-be6e-923f0ec54b52",
   "metadata": {},
   "outputs": [
    {
     "data": {
      "text/plain": [
       "(10325, 7)"
      ]
     },
     "execution_count": 458,
     "metadata": {},
     "output_type": "execute_result"
    }
   ],
   "source": [
    "def remove_bhk_outliers(df):\n",
    "    exclude_indices=np.array([])\n",
    "    for location,location_df in df.groupby('location'):\n",
    "       size_stats={}\n",
    "       for size,size_df in location_df.groupby('size'):\n",
    "           size_stats[size]={\n",
    "               'mean': np.mean(size_df.price_per_sqft),\n",
    "               'std': np.std(size_df.price_per_sqft),\n",
    "               'count': size_df.shape[0]\n",
    "           }\n",
    "    for size, size_df in location_df.groupby('size'):\n",
    "            stats = size_stats.get(size-1)\n",
    "            if stats and stats['count']>5:\n",
    "                exclude_indices = np.append(exclude_indices, size_df[size_df.price_per_sqft<(stats['mean'])].index.values)\n",
    "    return df.drop(exclude_indices,axis='index')\n",
    "df4 = remove_bhk_outliers(df3)\n",
    "# df8 = df7.copy()\n",
    "df4.shape"
   ]
  },
  {
   "cell_type": "code",
   "execution_count": 459,
   "id": "1967d0b3-5b9c-4218-9c29-8cd7eb0f73b8",
   "metadata": {},
   "outputs": [
    {
     "data": {
      "image/png": "[encoded data removed]",
      "text/plain": [
       "<Figure size 1500x500 with 1 Axes>"
      ]
     },
     "metadata": {},
     "output_type": "display_data"
    }
   ],
   "source": [
    "plot_scatter_chart(df4,'Hebbal')"
   ]
  },
  {
   "cell_type": "code",
   "execution_count": 460,
   "id": "1c02e8a4-b82e-4b5d-ae86-acc4c8c69424",
   "metadata": {},
   "outputs": [
    {
     "data": {
      "text/plain": [
       "Text(0, 0.5, 'count')"
      ]
     },
     "execution_count": 460,
     "metadata": {},
     "output_type": "execute_result"
    },
    {
     "data": {
      "image/png": "[encoded data removed]",
      "text/plain": [
       "<Figure size 1500x500 with 1 Axes>"
      ]
     },
     "metadata": {},
     "output_type": "display_data"
    }
   ],
   "source": [
    "plt.hist(df4.price_per_sqft,rwidth=0.8)\n",
    "plt.xlabel('price_per_sqft')\n",
    "plt.ylabel('count')"
   ]
  },
  {
   "cell_type": "code",
   "execution_count": 461,
   "id": "59f03463-21ae-4b64-bb03-7e7e8a7a12cd",
   "metadata": {},
   "outputs": [
    {
     "data": {
      "text/plain": [
       "array([ 2.,  5.,  3.,  4.,  1.,  8.,  6.,  7.,  9., 12., 16., 10., 13.])"
      ]
     },
     "execution_count": 461,
     "metadata": {},
     "output_type": "execute_result"
    }
   ],
   "source": [
    "df4.bath.unique()"
   ]
  },
  {
   "cell_type": "code",
   "execution_count": 462,
   "id": "891c02f0-7f95-4de4-a8f8-3becf5941d57",
   "metadata": {},
   "outputs": [
    {
     "data": {
      "text/html": [
       "<div>\n",
       "<style scoped>\n",
       "    .dataframe tbody tr th:only-of-type {\n",
       "        vertical-align: middle;\n",
       "    }\n",
       "\n",
       "    .dataframe tbody tr th {\n",
       "        vertical-align: top;\n",
       "    }\n",
       "\n",
       "    .dataframe thead th {\n",
       "        text-align: right;\n",
       "    }\n",
       "</style>\n",
       "<table border=\"1\" class=\"dataframe\">\n",
       "  <thead>\n",
       "    <tr style=\"text-align: right;\">\n",
       "      <th></th>\n",
       "      <th>location</th>\n",
       "      <th>size</th>\n",
       "      <th>total_sqft</th>\n",
       "      <th>bath</th>\n",
       "      <th>balcony</th>\n",
       "      <th>price</th>\n",
       "      <th>price_per_sqft</th>\n",
       "    </tr>\n",
       "  </thead>\n",
       "  <tbody>\n",
       "    <tr>\n",
       "      <th>3096</th>\n",
       "      <td>other</td>\n",
       "      <td>10</td>\n",
       "      <td>12000.0</td>\n",
       "      <td>12.0</td>\n",
       "      <td>2.0</td>\n",
       "      <td>525.0</td>\n",
       "      <td>4375.000000</td>\n",
       "    </tr>\n",
       "    <tr>\n",
       "      <th>3609</th>\n",
       "      <td>other</td>\n",
       "      <td>16</td>\n",
       "      <td>10000.0</td>\n",
       "      <td>16.0</td>\n",
       "      <td>2.0</td>\n",
       "      <td>550.0</td>\n",
       "      <td>5500.000000</td>\n",
       "    </tr>\n",
       "    <tr>\n",
       "      <th>7979</th>\n",
       "      <td>other</td>\n",
       "      <td>11</td>\n",
       "      <td>6000.0</td>\n",
       "      <td>12.0</td>\n",
       "      <td>2.0</td>\n",
       "      <td>150.0</td>\n",
       "      <td>2500.000000</td>\n",
       "    </tr>\n",
       "    <tr>\n",
       "      <th>8636</th>\n",
       "      <td>Neeladri Nagar</td>\n",
       "      <td>10</td>\n",
       "      <td>4000.0</td>\n",
       "      <td>12.0</td>\n",
       "      <td>2.0</td>\n",
       "      <td>160.0</td>\n",
       "      <td>4000.000000</td>\n",
       "    </tr>\n",
       "    <tr>\n",
       "      <th>9935</th>\n",
       "      <td>other</td>\n",
       "      <td>13</td>\n",
       "      <td>5425.0</td>\n",
       "      <td>13.0</td>\n",
       "      <td>0.0</td>\n",
       "      <td>275.0</td>\n",
       "      <td>5069.124424</td>\n",
       "    </tr>\n",
       "  </tbody>\n",
       "</table>\n",
       "</div>"
      ],
      "text/plain": [
       "            location  size  total_sqft  bath  balcony  price  price_per_sqft\n",
       "3096           other    10     12000.0  12.0      2.0  525.0     4375.000000\n",
       "3609           other    16     10000.0  16.0      2.0  550.0     5500.000000\n",
       "7979           other    11      6000.0  12.0      2.0  150.0     2500.000000\n",
       "8636  Neeladri Nagar    10      4000.0  12.0      2.0  160.0     4000.000000\n",
       "9935           other    13      5425.0  13.0      0.0  275.0     5069.124424"
      ]
     },
     "execution_count": 462,
     "metadata": {},
     "output_type": "execute_result"
    }
   ],
   "source": [
    "df4[df4.bath>10]"
   ]
  },
  {
   "cell_type": "code",
   "execution_count": 463,
   "id": "8f005a08-abe7-46a4-9800-f50efff0d2e3",
   "metadata": {},
   "outputs": [],
   "source": [
    "# removing bathrooms higher than bedrooms +2\n",
    "df4=df4[~(df4.bath>df4['size']+2)]"
   ]
  },
  {
   "cell_type": "code",
   "execution_count": 464,
   "id": "923ae9ad-09eb-4870-9cb0-c2c9082837f3",
   "metadata": {},
   "outputs": [
    {
     "data": {
      "text/plain": [
       "(10321, 7)"
      ]
     },
     "execution_count": 464,
     "metadata": {},
     "output_type": "execute_result"
    }
   ],
   "source": [
    "df4.shape"
   ]
  },
  {
   "cell_type": "code",
   "execution_count": 465,
   "id": "f2fa073f-326a-4e60-b69d-fdcef6221128",
   "metadata": {},
   "outputs": [],
   "source": [
    "df4.drop('price_per_sqft',axis=1,inplace=True)"
   ]
  },
  {
   "cell_type": "markdown",
   "id": "f0bba8c7-6807-422d-bafb-5d0036450030",
   "metadata": {},
   "source": [
    "#### Handling categorical values"
   ]
  },
  {
   "cell_type": "code",
   "execution_count": 467,
   "id": "a9cb3d1c-44b6-41b3-9027-60d0903a2a99",
   "metadata": {},
   "outputs": [],
   "source": [
    "dummies= pd.get_dummies(df4.location,drop_first=True)         "
   ]
  },
  {
   "cell_type": "code",
   "execution_count": 468,
   "id": "0ed26d43-984b-4d19-80f8-d9957042abf5",
   "metadata": {},
   "outputs": [],
   "source": [
    "df5=pd.concat([df4,dummies],axis=1)"
   ]
  },
  {
   "cell_type": "code",
   "execution_count": 469,
   "id": "57377f57-f84a-4bae-8507-bfb909d5006e",
   "metadata": {},
   "outputs": [],
   "source": [
    "df5.drop('location',axis=1,inplace=True)"
   ]
  },
  {
   "cell_type": "code",
   "execution_count": 470,
   "id": "2db6bd69-f401-49a6-84e2-968b5619a7d1",
   "metadata": {},
   "outputs": [
    {
     "data": {
      "text/plain": [
       "(10321, 245)"
      ]
     },
     "execution_count": 470,
     "metadata": {},
     "output_type": "execute_result"
    }
   ],
   "source": [
    "df5.shape"
   ]
  },
  {
   "cell_type": "markdown",
   "id": "56a4b6b0-222b-4b61-87b0-0822e7f57e82",
   "metadata": {},
   "source": [
    "#### Model Selection"
   ]
  },
  {
   "cell_type": "code",
   "execution_count": 537,
   "id": "0bfadf27-1456-4926-bdc1-1ee38d82ad67",
   "metadata": {},
   "outputs": [],
   "source": [
    "X=df5.drop('price',axis=1)"
   ]
  },
  {
   "cell_type": "code",
   "execution_count": 562,
   "id": "a0da99eb-ba80-4db4-aba8-ee2064666db5",
   "metadata": {},
   "outputs": [
    {
     "data": {
      "text/html": [
       "<div>\n",
       "<style scoped>\n",
       "    .dataframe tbody tr th:only-of-type {\n",
       "        vertical-align: middle;\n",
       "    }\n",
       "\n",
       "    .dataframe tbody tr th {\n",
       "        vertical-align: top;\n",
       "    }\n",
       "\n",
       "    .dataframe thead th {\n",
       "        text-align: right;\n",
       "    }\n",
       "</style>\n",
       "<table border=\"1\" class=\"dataframe\">\n",
       "  <thead>\n",
       "    <tr style=\"text-align: right;\">\n",
       "      <th></th>\n",
       "      <th>size</th>\n",
       "      <th>total_sqft</th>\n",
       "      <th>bath</th>\n",
       "      <th>balcony</th>\n",
       "      <th>1st Block Jayanagar</th>\n",
       "      <th>1st Phase JP Nagar</th>\n",
       "      <th>2nd Phase Judicial Layout</th>\n",
       "      <th>2nd Stage Nagarbhavi</th>\n",
       "      <th>5th Block Hbr Layout</th>\n",
       "      <th>5th Phase JP Nagar</th>\n",
       "      <th>...</th>\n",
       "      <th>Vishveshwarya Layout</th>\n",
       "      <th>Vishwapriya Layout</th>\n",
       "      <th>Vittasandra</th>\n",
       "      <th>Whitefield</th>\n",
       "      <th>Yelachenahalli</th>\n",
       "      <th>Yelahanka</th>\n",
       "      <th>Yelahanka New Town</th>\n",
       "      <th>Yelenahalli</th>\n",
       "      <th>Yeshwanthpur</th>\n",
       "      <th>other</th>\n",
       "    </tr>\n",
       "  </thead>\n",
       "  <tbody>\n",
       "    <tr>\n",
       "      <th>0</th>\n",
       "      <td>2</td>\n",
       "      <td>1056.0</td>\n",
       "      <td>2.0</td>\n",
       "      <td>1.0</td>\n",
       "      <td>0</td>\n",
       "      <td>0</td>\n",
       "      <td>0</td>\n",
       "      <td>0</td>\n",
       "      <td>0</td>\n",
       "      <td>0</td>\n",
       "      <td>...</td>\n",
       "      <td>0</td>\n",
       "      <td>0</td>\n",
       "      <td>0</td>\n",
       "      <td>0</td>\n",
       "      <td>0</td>\n",
       "      <td>0</td>\n",
       "      <td>0</td>\n",
       "      <td>0</td>\n",
       "      <td>0</td>\n",
       "      <td>0</td>\n",
       "    </tr>\n",
       "    <tr>\n",
       "      <th>1</th>\n",
       "      <td>4</td>\n",
       "      <td>2600.0</td>\n",
       "      <td>5.0</td>\n",
       "      <td>3.0</td>\n",
       "      <td>0</td>\n",
       "      <td>0</td>\n",
       "      <td>0</td>\n",
       "      <td>0</td>\n",
       "      <td>0</td>\n",
       "      <td>0</td>\n",
       "      <td>...</td>\n",
       "      <td>0</td>\n",
       "      <td>0</td>\n",
       "      <td>0</td>\n",
       "      <td>0</td>\n",
       "      <td>0</td>\n",
       "      <td>0</td>\n",
       "      <td>0</td>\n",
       "      <td>0</td>\n",
       "      <td>0</td>\n",
       "      <td>0</td>\n",
       "    </tr>\n",
       "    <tr>\n",
       "      <th>2</th>\n",
       "      <td>3</td>\n",
       "      <td>1440.0</td>\n",
       "      <td>2.0</td>\n",
       "      <td>3.0</td>\n",
       "      <td>0</td>\n",
       "      <td>0</td>\n",
       "      <td>0</td>\n",
       "      <td>0</td>\n",
       "      <td>0</td>\n",
       "      <td>0</td>\n",
       "      <td>...</td>\n",
       "      <td>0</td>\n",
       "      <td>0</td>\n",
       "      <td>0</td>\n",
       "      <td>0</td>\n",
       "      <td>0</td>\n",
       "      <td>0</td>\n",
       "      <td>0</td>\n",
       "      <td>0</td>\n",
       "      <td>0</td>\n",
       "      <td>0</td>\n",
       "    </tr>\n",
       "    <tr>\n",
       "      <th>3</th>\n",
       "      <td>3</td>\n",
       "      <td>1521.0</td>\n",
       "      <td>3.0</td>\n",
       "      <td>1.0</td>\n",
       "      <td>0</td>\n",
       "      <td>0</td>\n",
       "      <td>0</td>\n",
       "      <td>0</td>\n",
       "      <td>0</td>\n",
       "      <td>0</td>\n",
       "      <td>...</td>\n",
       "      <td>0</td>\n",
       "      <td>0</td>\n",
       "      <td>0</td>\n",
       "      <td>0</td>\n",
       "      <td>0</td>\n",
       "      <td>0</td>\n",
       "      <td>0</td>\n",
       "      <td>0</td>\n",
       "      <td>0</td>\n",
       "      <td>0</td>\n",
       "    </tr>\n",
       "    <tr>\n",
       "      <th>4</th>\n",
       "      <td>2</td>\n",
       "      <td>1200.0</td>\n",
       "      <td>2.0</td>\n",
       "      <td>1.0</td>\n",
       "      <td>0</td>\n",
       "      <td>0</td>\n",
       "      <td>0</td>\n",
       "      <td>0</td>\n",
       "      <td>0</td>\n",
       "      <td>0</td>\n",
       "      <td>...</td>\n",
       "      <td>0</td>\n",
       "      <td>0</td>\n",
       "      <td>0</td>\n",
       "      <td>0</td>\n",
       "      <td>0</td>\n",
       "      <td>0</td>\n",
       "      <td>0</td>\n",
       "      <td>0</td>\n",
       "      <td>0</td>\n",
       "      <td>0</td>\n",
       "    </tr>\n",
       "  </tbody>\n",
       "</table>\n",
       "<p>5 rows × 244 columns</p>\n",
       "</div>"
      ],
      "text/plain": [
       "   size  total_sqft  bath  balcony  1st Block Jayanagar  1st Phase JP Nagar  \\\n",
       "0     2      1056.0   2.0      1.0                    0                   0   \n",
       "1     4      2600.0   5.0      3.0                    0                   0   \n",
       "2     3      1440.0   2.0      3.0                    0                   0   \n",
       "3     3      1521.0   3.0      1.0                    0                   0   \n",
       "4     2      1200.0   2.0      1.0                    0                   0   \n",
       "\n",
       "   2nd Phase Judicial Layout  2nd Stage Nagarbhavi  5th Block Hbr Layout  \\\n",
       "0                          0                     0                     0   \n",
       "1                          0                     0                     0   \n",
       "2                          0                     0                     0   \n",
       "3                          0                     0                     0   \n",
       "4                          0                     0                     0   \n",
       "\n",
       "   5th Phase JP Nagar  ...  Vishveshwarya Layout  Vishwapriya Layout  \\\n",
       "0                   0  ...                     0                   0   \n",
       "1                   0  ...                     0                   0   \n",
       "2                   0  ...                     0                   0   \n",
       "3                   0  ...                     0                   0   \n",
       "4                   0  ...                     0                   0   \n",
       "\n",
       "   Vittasandra  Whitefield  Yelachenahalli  Yelahanka  Yelahanka New Town  \\\n",
       "0            0           0               0          0                   0   \n",
       "1            0           0               0          0                   0   \n",
       "2            0           0               0          0                   0   \n",
       "3            0           0               0          0                   0   \n",
       "4            0           0               0          0                   0   \n",
       "\n",
       "   Yelenahalli  Yeshwanthpur  other  \n",
       "0            0             0      0  \n",
       "1            0             0      0  \n",
       "2            0             0      0  \n",
       "3            0             0      0  \n",
       "4            0             0      0  \n",
       "\n",
       "[5 rows x 244 columns]"
      ]
     },
     "execution_count": 562,
     "metadata": {},
     "output_type": "execute_result"
    }
   ],
   "source": [
    "X.head()"
   ]
  },
  {
   "cell_type": "code",
   "execution_count": 538,
   "id": "fa39d621-dc6f-446f-9aab-8b6b53e0e996",
   "metadata": {},
   "outputs": [],
   "source": [
    "y=df5.price"
   ]
  },
  {
   "cell_type": "code",
   "execution_count": 539,
   "id": "ea52065f-660a-44d7-8c52-e80a98da6d32",
   "metadata": {},
   "outputs": [],
   "source": [
    "from sklearn.model_selection import train_test_split\n",
    "X_train, X_test, y_train, y_test = train_test_split(X,y,test_size=0.2,random_state=10)"
   ]
  },
  {
   "cell_type": "code",
   "execution_count": 559,
   "id": "8d1ac144-b307-435e-861d-9c8d9fd62412",
   "metadata": {},
   "outputs": [
    {
     "data": {
      "text/plain": [
       "0.8343954194477897"
      ]
     },
     "execution_count": 559,
     "metadata": {},
     "output_type": "execute_result"
    }
   ],
   "source": [
    "from sklearn.linear_model import LinearRegression\n",
    "lr_clf = LinearRegression()\n",
    "lr_clf.fit(X_train,y_train)\n",
    "lr_clf.score(X_test,y_test)"
   ]
  },
  {
   "cell_type": "markdown",
   "id": "439b54d1-16c8-493d-8719-23371ca8b9bf",
   "metadata": {},
   "source": [
    "#### Use K Fold cross validation to measure accuracy of the LinearRegression model\n"
   ]
  },
  {
   "cell_type": "code",
   "execution_count": 541,
   "id": "54c69554-6402-45d8-8d48-bc111b76ccba",
   "metadata": {},
   "outputs": [
    {
     "data": {
      "text/plain": [
       "array([ 8.17674326e-01,  8.36813491e-01,  8.28033353e-01, -5.32738029e+14,\n",
       "        8.91217663e-01])"
      ]
     },
     "execution_count": 541,
     "metadata": {},
     "output_type": "execute_result"
    }
   ],
   "source": [
    "from sklearn.model_selection import ShuffleSplit\n",
    "from sklearn.model_selection import cross_val_score\n",
    "\n",
    "cv = ShuffleSplit(n_splits=5, test_size=0.2, random_state=0)\n",
    "\n",
    "cross_val_score(LinearRegression(), X, y, cv=cv)"
   ]
  },
  {
   "cell_type": "markdown",
   "id": "c7f10299-360f-4008-af33-af070f33b937",
   "metadata": {},
   "source": [
    "#### Find best model using GridSearchCV¶"
   ]
  },
  {
   "cell_type": "code",
   "execution_count": 546,
   "id": "29ffbabb-d8d0-4e30-ae70-c245a85e5602",
   "metadata": {},
   "outputs": [
    {
     "data": {
      "text/html": [
       "<div>\n",
       "<style scoped>\n",
       "    .dataframe tbody tr th:only-of-type {\n",
       "        vertical-align: middle;\n",
       "    }\n",
       "\n",
       "    .dataframe tbody tr th {\n",
       "        vertical-align: top;\n",
       "    }\n",
       "\n",
       "    .dataframe thead th {\n",
       "        text-align: right;\n",
       "    }\n",
       "</style>\n",
       "<table border=\"1\" class=\"dataframe\">\n",
       "  <thead>\n",
       "    <tr style=\"text-align: right;\">\n",
       "      <th></th>\n",
       "      <th>model</th>\n",
       "      <th>best_score</th>\n",
       "      <th>best_params</th>\n",
       "    </tr>\n",
       "  </thead>\n",
       "  <tbody>\n",
       "    <tr>\n",
       "      <th>0</th>\n",
       "      <td>logistic_regression</td>\n",
       "      <td>-2.372983e+13</td>\n",
       "      <td>{'fit_intercept': False}</td>\n",
       "    </tr>\n",
       "    <tr>\n",
       "      <th>1</th>\n",
       "      <td>lasso</td>\n",
       "      <td>8.083892e-01</td>\n",
       "      <td>{'alpha': 1, 'selection': 'random'}</td>\n",
       "    </tr>\n",
       "    <tr>\n",
       "      <th>2</th>\n",
       "      <td>decision_tree</td>\n",
       "      <td>7.605438e-01</td>\n",
       "      <td>{'criterion': 'squared_error', 'splitter': 'ra...</td>\n",
       "    </tr>\n",
       "  </tbody>\n",
       "</table>\n",
       "</div>"
      ],
      "text/plain": [
       "                 model    best_score  \\\n",
       "0  logistic_regression -2.372983e+13   \n",
       "1                lasso  8.083892e-01   \n",
       "2        decision_tree  7.605438e-01   \n",
       "\n",
       "                                         best_params  \n",
       "0                           {'fit_intercept': False}  \n",
       "1                {'alpha': 1, 'selection': 'random'}  \n",
       "2  {'criterion': 'squared_error', 'splitter': 'ra...  "
      ]
     },
     "execution_count": 546,
     "metadata": {},
     "output_type": "execute_result"
    }
   ],
   "source": [
    "from sklearn.model_selection import GridSearchCV\n",
    "from sklearn.linear_model import LinearRegression\n",
    "from sklearn.linear_model import Lasso\n",
    "from sklearn.tree import DecisionTreeRegressor\n",
    "\n",
    "def find_best_model_using_gridsearchcv(X,y):\n",
    "    algos = {\n",
    "        'logistic_regression' : {\n",
    "            'model': LinearRegression(),\n",
    "            'params': {\n",
    "                'fit_intercept': [True,False]\n",
    "            }\n",
    "        },\n",
    "        'lasso': {\n",
    "            'model': Lasso(),\n",
    "            'params': {\n",
    "                'alpha': [1,2],\n",
    "                'selection': ['random', 'cyclic']\n",
    "            }\n",
    "        },\n",
    "        'decision_tree': {\n",
    "            'model': DecisionTreeRegressor(),\n",
    "            'params': {\n",
    "                'criterion' : ['squared_error','friedman_mse'],\n",
    "                'splitter': ['best','random']\n",
    "            }\n",
    "        }\n",
    "    }\n",
    "    scores = []\n",
    "    cv = ShuffleSplit(n_splits=5, test_size=0.2, random_state=0)\n",
    "    for algo_name, config in algos.items():\n",
    "        gs =  GridSearchCV(config['model'], config['params'], cv=cv, return_train_score=False)\n",
    "        gs.fit(X,y)\n",
    "        scores.append({\n",
    "            'model': algo_name,\n",
    "            'best_score': gs.best_score_,\n",
    "            'best_params': gs.best_params_\n",
    "        })\n",
    "\n",
    "    return pd.DataFrame(scores,columns=['model','best_score','best_params'])\n",
    "\n",
    "find_best_model_using_gridsearchcv(X,y)"
   ]
  },
  {
   "cell_type": "markdown",
   "id": "cd0ad76a-d668-4ad0-b240-f610f9e29e68",
   "metadata": {},
   "source": [
    "Linear Regression gives the best score. Hence use it to predict price"
   ]
  },
  {
   "cell_type": "markdown",
   "id": "802e165d-906a-4847-a213-a0782b8218c2",
   "metadata": {},
   "source": [
    "#### Test the model for few properties"
   ]
  },
  {
   "cell_type": "code",
   "execution_count": 591,
   "id": "82c0cf43-1f25-4a7b-95ee-b4ea9708fe32",
   "metadata": {},
   "outputs": [],
   "source": [
    "def predict_price(location,size,sqft,bath,balcony):    \n",
    "    loc_index = np.where(X.columns==location)[0][0] \n",
    "\n",
    "    x = np.zeros(len(X.columns))\n",
    "    x[0] = size\n",
    "    x[1] = sqft\n",
    "    x[2] = bath\n",
    "    x[3] = balcony\n",
    "    if loc_index >= 0:\n",
    "        x[loc_index] = 1\n",
    "\n",
    "    return lr_clf.predict([x])[0]\n",
    "\n",
    "#This is done to mimic our training dataset. Remember we performed one hot encoding on our location column before fitting to our model. Our X is structured as follows sqft, bath, bhk and  <one-hot-encoded-columns>. \n",
    "#So whenever we try to test our model, we need to transform our input categorical location also as a one hot encoded row. We do this by:\n",
    "#1. Initializing a vector to number of columns in training set, which in the tutorial is done by setting x = np.zeros(len(X.columns))\n",
    "#2. To follow the same format as training set we assign x[0] as sqft, x[1] as bath and x[2] and bhk and use the location index to assign 1 for our input location "
   ]
  },
  {
   "cell_type": "code",
   "execution_count": 548,
   "id": "b1eff0dd-37c9-46fa-8051-84abbe28c251",
   "metadata": {},
   "outputs": [
    {
     "data": {
      "text/plain": [
       "Index(['size', 'total_sqft', 'bath', 'balcony', '1st Block Jayanagar',\n",
       "       '1st Phase JP Nagar', '2nd Phase Judicial Layout',\n",
       "       '2nd Stage Nagarbhavi', '5th Block Hbr Layout', '5th Phase JP Nagar',\n",
       "       ...\n",
       "       'Vishveshwarya Layout', 'Vishwapriya Layout', 'Vittasandra',\n",
       "       'Whitefield', 'Yelachenahalli', 'Yelahanka', 'Yelahanka New Town',\n",
       "       'Yelenahalli', 'Yeshwanthpur', 'other'],\n",
       "      dtype='object', length=244)"
      ]
     },
     "execution_count": 548,
     "metadata": {},
     "output_type": "execute_result"
    }
   ],
   "source": [
    "X.columns"
   ]
  },
  {
   "cell_type": "code",
   "execution_count": 553,
   "id": "77710b88-616d-4a0a-ac70-d3648462e6ef",
   "metadata": {},
   "outputs": [
    {
     "data": {
      "text/plain": [
       "6"
      ]
     },
     "execution_count": 553,
     "metadata": {},
     "output_type": "execute_result"
    }
   ],
   "source": [
    "np.where(X.columns=='2nd Phase Judicial Layout')[0][0]"
   ]
  },
  {
   "cell_type": "code",
   "execution_count": 555,
   "id": "c6f41824-c4ef-4dca-b294-631a21f67be7",
   "metadata": {},
   "outputs": [
    {
     "data": {
      "text/plain": [
       "244"
      ]
     },
     "execution_count": 555,
     "metadata": {},
     "output_type": "execute_result"
    }
   ],
   "source": [
    "(len(X.columns))"
   ]
  },
  {
   "cell_type": "code",
   "execution_count": 578,
   "id": "f677203f-f870-438d-b188-33940054e889",
   "metadata": {},
   "outputs": [
    {
     "name": "stderr",
     "output_type": "stream",
     "text": [
      "C:\\Users\\saras\\anaconda3\\lib\\site-packages\\sklearn\\base.py:465: UserWarning: X does not have valid feature names, but LinearRegression was fitted with feature names\n",
      "  warnings.warn(\n"
     ]
    },
    {
     "data": {
      "text/plain": [
       "85.44582306220576"
      ]
     },
     "execution_count": 578,
     "metadata": {},
     "output_type": "execute_result"
    }
   ],
   "source": [
    "predict_price('1st Phase JP Nagar',2,1000, 2, 2)"
   ]
  },
  {
   "cell_type": "code",
   "execution_count": 579,
   "id": "d69b08b6-2341-4534-a5ae-9035603df27f",
   "metadata": {},
   "outputs": [
    {
     "name": "stderr",
     "output_type": "stream",
     "text": [
      "C:\\Users\\saras\\anaconda3\\lib\\site-packages\\sklearn\\base.py:465: UserWarning: X does not have valid feature names, but LinearRegression was fitted with feature names\n",
      "  warnings.warn(\n"
     ]
    },
    {
     "data": {
      "text/plain": [
       "84.03363733457627"
      ]
     },
     "execution_count": 579,
     "metadata": {},
     "output_type": "execute_result"
    }
   ],
   "source": [
    "predict_price('1st Phase JP Nagar',3,1000, 3, 3)"
   ]
  },
  {
   "cell_type": "code",
   "execution_count": 580,
   "id": "7542824b-fa2b-4430-a2a3-fc2e3c0f4f08",
   "metadata": {},
   "outputs": [
    {
     "name": "stderr",
     "output_type": "stream",
     "text": [
      "C:\\Users\\saras\\anaconda3\\lib\\site-packages\\sklearn\\base.py:465: UserWarning: X does not have valid feature names, but LinearRegression was fitted with feature names\n",
      "  warnings.warn(\n"
     ]
    },
    {
     "data": {
      "text/plain": [
       "94.12331303024594"
      ]
     },
     "execution_count": 580,
     "metadata": {},
     "output_type": "execute_result"
    }
   ],
   "source": [
    "predict_price('Indira Nagar',2,1000, 2, 2)"
   ]
  },
  {
   "cell_type": "code",
   "execution_count": 588,
   "id": "404e80fa-c2ba-4562-81c4-df7d5db3740b",
   "metadata": {},
   "outputs": [
    {
     "name": "stderr",
     "output_type": "stream",
     "text": [
      "C:\\Users\\saras\\anaconda3\\lib\\site-packages\\sklearn\\base.py:465: UserWarning: X does not have valid feature names, but LinearRegression was fitted with feature names\n",
      "  warnings.warn(\n"
     ]
    },
    {
     "data": {
      "text/plain": [
       "108.19570343931787"
      ]
     },
     "execution_count": 588,
     "metadata": {},
     "output_type": "execute_result"
    }
   ],
   "source": [
    "predict_price('Indira Nagar',2,1200, 2, 2)"
   ]
  },
  {
   "cell_type": "markdown",
   "id": "4761e07f-9847-4f7f-84cb-b3a8b3af47fc",
   "metadata": {},
   "source": [
    "#### Export the tested model to a pickle file"
   ]
  },
  {
   "cell_type": "code",
   "execution_count": 589,
   "id": "8ba42f87-bed3-4d99-b4a5-13698e72d6fc",
   "metadata": {},
   "outputs": [],
   "source": [
    "import pickle\n",
    "with open('Real Estate Price Prediction.pickle','wb') as f:\n",
    "    pickle.dump(lr_clf,f)"
   ]
  },
  {
   "cell_type": "markdown",
   "id": "aba8a72c-70b5-4ebd-8e7d-e07410808bd4",
   "metadata": {},
   "source": [
    "#### Export location and column information to a file that will be useful later on in the prediction application"
   ]
  },
  {
   "cell_type": "code",
   "execution_count": 590,
   "id": "d929f9ea-b2f6-4ab6-95f2-d9184a1726e5",
   "metadata": {},
   "outputs": [],
   "source": [
    "import json\n",
    "columns = {\n",
    "    'data_columns' : [col.lower() for col in X.columns]\n",
    "}\n",
    "with open(\"columns.json\",\"w\") as f:\n",
    "    f.write(json.dumps(columns))"
   ]
  },
  {
   "cell_type": "code",
   "execution_count": 592,
   "id": "ea7bbd30-c763-4a48-aa4f-9598b56b41ee",
   "metadata": {},
   "outputs": [],
   "source": [
    "import os"
   ]
  },
  {
   "cell_type": "code",
   "execution_count": 593,
   "id": "c432b44f-4138-4216-ba9b-008270a279ee",
   "metadata": {},
   "outputs": [
    {
     "data": {
      "text/plain": [
       "'C:\\\\Users\\\\saras\\\\steffysara\\\\EDA'"
      ]
     },
     "execution_count": 593,
     "metadata": {},
     "output_type": "execute_result"
    }
   ],
   "source": [
    "os.getcwd()"
   ]
  },
  {
   "cell_type": "code",
   "execution_count": null,
   "id": "842fed28-295d-4cb2-b6a7-db72564843a0",
   "metadata": {},
   "outputs": [],
   "source": []
  }
 ],
 "metadata": {
  "kernelspec": {
   "display_name": "Python 3 (ipykernel)",
   "language": "python",
   "name": "python3"
  },
  "language_info": {
   "codemirror_mode": {
    "name": "ipython",
    "version": 3
   },
   "file_extension": ".py",
   "mimetype": "text/x-python",
   "name": "python",
   "nbconvert_exporter": "python",
   "pygments_lexer": "ipython3",
   "version": "3.8.18"
  }
 },
 "nbformat": 4,
 "nbformat_minor": 5
}
